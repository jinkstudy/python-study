{
 "cells": [
  {
   "cell_type": "code",
   "execution_count": null,
   "metadata": {},
   "outputs": [],
   "source": [
    "import mglearn\n",
    "from sklearn.datasets import make_blobs\n",
    "from sklearn.cluster import KMeans\n",
    "import matplotlib.pyplot as plt\n",
    "import numpy as np\n",
    "\n",
    "#인위적인 2차원 데이터 셋 생성 \n",
    "X_varied, y_varied = make_blobs(n_samples=600,  random_state=170)\n",
    "\n",
    "#데이터가 길게 늘어지도록 변경 \n",
    "rng = np.random.RandomState(74)\n",
    "transformation = rng.normal(size = (2,2))\n",
    "X_varied = np.dot(X_varied, transformation)\n",
    "\n",
    "# 3개의 클러스터 생성 \n",
    "y_pred = KMeans(n_clusters=3).fit_predict(X_varied)\n",
    "\n",
    "mglearn.discrete_scatter(X_varied[:,0], X_varied[:,1], y_pred)\n",
    "plt.legend([\"cluster 0\",\"cluster 1\",\"cluster 2\"],loc=\"best\")\n",
    "plt.xlabel(\"feature 0\")\n",
    "plt.ylabel(\"feature 1\")\n",
    "plt.show()\n"
   ]
  }
 ],
 "metadata": {
  "kernelspec": {
   "display_name": "Python 3",
   "language": "python",
   "name": "python3"
  },
  "language_info": {
   "codemirror_mode": {
    "name": "ipython",
    "version": 3
   },
   "file_extension": ".py",
   "mimetype": "text/x-python",
   "name": "python",
   "nbconvert_exporter": "python",
   "pygments_lexer": "ipython3",
   "version": "3.6.7"
  }
 },
 "nbformat": 4,
 "nbformat_minor": 2
}
