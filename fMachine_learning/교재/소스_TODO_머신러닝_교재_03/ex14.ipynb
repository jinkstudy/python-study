{
 "cells": [
  {
   "cell_type": "code",
   "execution_count": null,
   "metadata": {},
   "outputs": [],
   "source": [
    "import mglearn\n",
    "import pandas as pd \n",
    "from sklearn.cluster import KMeans\n",
    "import matplotlib.pyplot as plt\n",
    "import matplotlib\n",
    "from matplotlib import font_manager, rc\n",
    "\n",
    "font_location = \"c:/Windows/fonts/malgun.ttf\"\n",
    "font_name = font_manager.FontProperties(fname=font_location).get_name()\n",
    "matplotlib.rc('font', family=font_name)\n",
    "\n",
    "data =pd.read_csv(\"ex14_academy.csv\" )\n",
    "print( data.iloc[:,1:] )\n",
    " \n",
    "# 군집 모델을 만듭니다\n",
    "#TODO\n",
    "#TODO\n",
    "\n",
    "print(\"클러스터 레이블 \", kmeans.labels_) \n",
    "\n",
    "mglearn.discrete_scatter(data.iloc[:,1], data.iloc[:,2], kmeans.labels_)\n",
    "plt.legend([\"클러스터 0\", \"클러스터 1\", \"클러스터 2\"], loc='best')\n",
    "plt.xlabel(\"국어점수 \")\n",
    "plt.ylabel(\"영어점수 \")\n",
    "plt.show()\n",
    "\n",
    "# 국어점수 100, 영어점수 80 인 새로운 학생이 입학하였습니다.\n",
    "# 이 학생은 몇번 클러스터에 포함되어야 합니까?  \n",
    "#TODO\n",
    "\n"
   ]
  },
  {
   "cell_type": "code",
   "execution_count": null,
   "metadata": {},
   "outputs": [],
   "source": []
  }
 ],
 "metadata": {
  "kernelspec": {
   "display_name": "Python 3",
   "language": "python",
   "name": "python3"
  },
  "language_info": {
   "codemirror_mode": {
    "name": "ipython",
    "version": 3
   },
   "file_extension": ".py",
   "mimetype": "text/x-python",
   "name": "python",
   "nbconvert_exporter": "python",
   "pygments_lexer": "ipython3",
   "version": "3.6.7"
  }
 },
 "nbformat": 4,
 "nbformat_minor": 2
}
