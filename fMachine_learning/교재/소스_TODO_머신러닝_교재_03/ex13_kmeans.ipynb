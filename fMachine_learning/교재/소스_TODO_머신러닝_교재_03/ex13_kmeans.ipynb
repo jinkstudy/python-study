{
 "cells": [
  {
   "cell_type": "code",
   "execution_count": null,
   "metadata": {},
   "outputs": [],
   "source": [
    "import mglearn\n",
    "from sklearn.datasets import make_blobs\n",
    "from sklearn.cluster import KMeans\n",
    "import matplotlib.pyplot as plt\n",
    "import matplotlib\n",
    "from matplotlib import font_manager, rc\n",
    "\n",
    "#한글 폰트 등록\n",
    "font_location = \"c:/Windows/fonts/malgun.ttf\"\n",
    "font_name = font_manager.FontProperties(fname=font_location).get_name()\n",
    "matplotlib.rc('font', family=font_name)\n",
    "\n",
    "# 인위적으로 2차원 데이터를 생성합니다 \n",
    "X,y = make_blobs(random_state=1)\n",
    "print(X)"
   ]
  },
  {
   "cell_type": "code",
   "execution_count": null,
   "metadata": {},
   "outputs": [],
   "source": [
    "# KMeans 3개의 클러스터로 군집화  \n",
    "#TODO\n",
    "#TODO   # 클러스터링한 결과 라벨"
   ]
  },
  {
   "cell_type": "code",
   "execution_count": null,
   "metadata": {},
   "outputs": [],
   "source": [
    "#TODO\n",
    "# 세번째 매개인자인  클러스터링한 결과 라벨 (kmeans.labels_) 별로 다른 색 그래프 \n",
    "# x축 X[:,0],  y축 X[:,1] \n",
    "plt.show()"
   ]
  },
  {
   "cell_type": "code",
   "execution_count": null,
   "metadata": {},
   "outputs": [],
   "source": [
    "#######################################################################\n",
    "fig, axes = plt.subplots(1,2,figsize=(10,5))   #1행 2열 sub그래프\n",
    " \n",
    "#두 개의 클러스터 중심을 사용\n",
    "#TODO\n",
    "#TODO\n",
    "#TODO\n",
    "#mglearn.discrete_scatter(X[:,0],X[:,1],assignments, ax = axes[0])\n"
   ]
  },
  {
   "cell_type": "code",
   "execution_count": null,
   "metadata": {},
   "outputs": [],
   "source": [
    "#######################################################################\n",
    "#다섯 개의 클러스터 중심\n",
    "kmeans = KMeans(n_clusters=5)\n",
    "kmeans.fit(X)\n",
    "assignments = kmeans.labels_  \n",
    "\n",
    "mglearn.discrete_scatter(X[:,0],X[:,1],assignments, ax = axes[1]) \n",
    "\n",
    "plt.legend([\"클러스터1\",\"클러스터2\",\"클러스터3\",\"클러스터4\",\"클러스터5\"])\n",
    "plt.ylabel(\"특성1\")\n",
    "plt.xlabel(\"특성0\")\n",
    "plt.show()"
   ]
  }
 ],
 "metadata": {
  "kernelspec": {
   "display_name": "Python 3",
   "language": "python",
   "name": "python3"
  },
  "language_info": {
   "codemirror_mode": {
    "name": "ipython",
    "version": 3
   },
   "file_extension": ".py",
   "mimetype": "text/x-python",
   "name": "python",
   "nbconvert_exporter": "python",
   "pygments_lexer": "ipython3",
   "version": "3.6.7"
  }
 },
 "nbformat": 4,
 "nbformat_minor": 2
}
