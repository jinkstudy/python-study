{
 "cells": [
  {
   "cell_type": "code",
   "execution_count": null,
   "metadata": {},
   "outputs": [],
   "source": [
    "import pandas as pd \n",
    "from sklearn.cluster import KMeans\n",
    "\n",
    "data =pd.read_csv(\"ex15_academy.csv\") \n",
    "\n",
    "#print( data.iloc[:,1:] )  \n",
    " \n",
    "# 군집 모델을 만듭니다\n",
    "#TODO\n",
    "#TODO  #학생번호 컬럼은 제외하고 학습\n",
    " \n",
    "for no, cla in enumerate(kmeans.labels_):\n",
    "    print(\"학생번호: {} : {}\".format(no, cla))\n",
    " \n",
    "# 국어점수 100, 영어점수 80,\n",
    "# 수학점수 70,  과학점수 70, 학업성취도 70\n",
    "# 인 새로운 학생이 입학하였습니다. \n",
    "# 이 학생은 몇번 클러스터에 포함되어야 합니까?  \n",
    "\n",
    "#TODO"
   ]
  }
 ],
 "metadata": {
  "kernelspec": {
   "display_name": "Python 3",
   "language": "python",
   "name": "python3"
  },
  "language_info": {
   "codemirror_mode": {
    "name": "ipython",
    "version": 3
   },
   "file_extension": ".py",
   "mimetype": "text/x-python",
   "name": "python",
   "nbconvert_exporter": "python",
   "pygments_lexer": "ipython3",
   "version": "3.6.7"
  }
 },
 "nbformat": 4,
 "nbformat_minor": 2
}
