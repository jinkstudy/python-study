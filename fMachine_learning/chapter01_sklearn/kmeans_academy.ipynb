{
 "cells": [
  {
   "cell_type": "code",
   "execution_count": 20,
   "metadata": {},
   "outputs": [
    {
     "name": "stdout",
     "output_type": "stream",
     "text": [
      "클러스터 레이블  [2 2 2 0 0 0 0 2 1 1 1 1 1 2 1 2 2 2 2 1 1 1 1 2 0 0 0 1 1 1 0 2]\n"
     ]
    },
    {
     "data": {
      "image/png": "[encoded data removed]",
      "text/plain": [
       "<Figure size 432x288 with 1 Axes>"
      ]
     },
     "metadata": {
      "needs_background": "light"
     },
     "output_type": "display_data"
    },
    {
     "name": "stdout",
     "output_type": "stream",
     "text": [
      "[2]\n"
     ]
    }
   ],
   "source": [
    "import mglearn\n",
    "import pandas as pd \n",
    "from sklearn.cluster import KMeans\n",
    "import matplotlib.pyplot as plt\n",
    "import matplotlib\n",
    "from matplotlib import font_manager, rc\n",
    "\n",
    "font_location = \"c:/Windows/fonts/malgun.ttf\"\n",
    "font_name = font_manager.FontProperties(fname=font_location).get_name()\n",
    "matplotlib.rc('font', family=font_name)\n",
    "\n",
    "data =pd.read_csv(\"./data/ex14_academy.csv\" )\n",
    "# print( data )\n",
    " \n",
    "# 군집 모델을 만듭니다\n",
    "kmeans = KMeans(n_clusters = 3)\n",
    "kmeans.fit(data.iloc[:,1:])\n",
    "\n",
    "\n",
    "print(\"클러스터 레이블 \", kmeans.labels_) \n",
    "\n",
    "mglearn.discrete_scatter(data.iloc[:,1], data.iloc[:,2], kmeans.labels_)\n",
    "plt.legend([\"클러스터 0\", \"클러스터 1\", \"클러스터 2\"], loc='best')\n",
    "plt.xlabel(\"국어점수 \")\n",
    "plt.ylabel(\"영어점수 \")\n",
    "plt.show()\n",
    "\n",
    "# 국어점수 100, 영어점수 80 인 새로운 학생이 입학하였습니다.\n",
    "# 이 학생은 몇번 클러스터에 포함되어야 합니까?  \n",
    "print(kmeans.predict([[100,80]]))\n",
    "\n"
   ]
  },
  {
   "cell_type": "code",
   "execution_count": 11,
   "metadata": {},
   "outputs": [
    {
     "name": "stdout",
     "output_type": "stream",
     "text": [
      "학생번호0 : 2\n",
      "학생번호1 : 2\n",
      "학생번호2 : 0\n",
      "학생번호3 : 2\n",
      "학생번호4 : 2\n",
      "학생번호5 : 0\n",
      "학생번호6 : 2\n",
      "학생번호7 : 2\n",
      "학생번호8 : 0\n",
      "학생번호9 : 1\n",
      "학생번호10 : 2\n",
      "학생번호11 : 0\n",
      "학생번호12 : 1\n",
      "학생번호13 : 2\n",
      "학생번호14 : 0\n",
      "학생번호15 : 1\n",
      "학생번호16 : 2\n",
      "학생번호17 : 0\n"
     ]
    }
   ],
   "source": [
    "data = pd.read_csv(\"./data/ex15_academy.csv\")\n",
    "data\n",
    "\n",
    "\n",
    "kmeans = KMeans(n_clusters=3)\n",
    "kmeans.fit(data.iloc[:,1:])\n",
    "\n",
    "for no,cla in enumerate(kmeans.labels_):\n",
    "    print(\"학생번호{} : {}\".format(no,cla))"
   ]
  }
 ],
 "metadata": {
  "kernelspec": {
   "display_name": "Python 3",
   "language": "python",
   "name": "python3"
  },
  "language_info": {
   "codemirror_mode": {
    "name": "ipython",
    "version": 3
   },
   "file_extension": ".py",
   "mimetype": "text/x-python",
   "name": "python",
   "nbconvert_exporter": "python",
   "pygments_lexer": "ipython3",
   "version": "3.7.3"
  }
 },
 "nbformat": 4,
 "nbformat_minor": 4
}
