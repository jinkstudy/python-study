{
 "cells": [
  {
   "cell_type": "code",
   "execution_count": 10,
   "metadata": {},
   "outputs": [
    {
     "name": "stdout",
     "output_type": "stream",
     "text": [
      "[[72.01694915]]\n"
     ]
    }
   ],
   "source": [
    "from sklearn.linear_model import LinearRegression\n",
    "\n",
    "x= [[10],[5],[9],[7]]\n",
    "y = [[100],[50],[90],[77]]\n",
    "\n",
    "model = LinearRegression()\n",
    "\n",
    "model1 = model.fit(x,y)\n",
    "result = model.predict([[7]])\n",
    "\n",
    "print(result)\n",
    "\n",
    "\n",
    "\n"
   ]
  },
  {
   "cell_type": "code",
   "execution_count": 11,
   "metadata": {},
   "outputs": [
    {
     "name": "stdout",
     "output_type": "stream",
     "text": [
      "[[65.]]\n"
     ]
    }
   ],
   "source": [
    "x = [[10,3],[5,2],[9,3],[7,3]]\n",
    "y = [[100],[50],[90],[77]]\n",
    "\n",
    "model = LinearRegression()\n",
    "\n",
    "model =model.fit(x,y)\n",
    "result = model.predict([[7,2]])\n",
    "\n",
    "print(result)"
   ]
  }
 ],
 "metadata": {
  "kernelspec": {
   "display_name": "Python 3",
   "language": "python",
   "name": "python3"
  },
  "language_info": {
   "codemirror_mode": {
    "name": "ipython",
    "version": 3
   },
   "file_extension": ".py",
   "mimetype": "text/x-python",
   "name": "python",
   "nbconvert_exporter": "python",
   "pygments_lexer": "ipython3",
   "version": "3.7.3"
  }
 },
 "nbformat": 4,
 "nbformat_minor": 2
}
