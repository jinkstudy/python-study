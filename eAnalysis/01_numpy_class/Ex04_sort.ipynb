{
 "cells": [
  {
   "cell_type": "markdown",
   "metadata": {},
   "source": [
    "### 행렬의 정렬\n",
    "\n",
    "1. np.sort() : 넘파이에서 sort() 호출\n",
    "\n",
    "2. nparray.sort() : 행렬자체에서 sort() 호출\n",
    "\n",
    "\n",
    "####  두 방식 sort() 함수의 차이점\n",
    "\n",
    "\n",
    "1. np.sort() : 원 행렬을 그대로 유지한채 원 행렬의 정렬된 행렬을 반환\n",
    "\n",
    "2. nparray.sort() : 원 행렬 자체를 정렬한 형태로 변환하며 None을 반환"
   ]
  },
  {
   "cell_type": "code",
   "execution_count": 1,
   "metadata": {},
   "outputs": [
    {
     "name": "stdout",
     "output_type": "stream",
     "text": [
      "원본: [3 1 9 7]\n"
     ]
    }
   ],
   "source": [
    "import numpy as np\n",
    "\n",
    "origin = np.array([3,1,9,7])\n",
    "print('원본:', origin)"
   ]
  },
  {
   "cell_type": "code",
   "execution_count": 3,
   "metadata": {},
   "outputs": [
    {
     "name": "stdout",
     "output_type": "stream",
     "text": [
      "원본: [3 1 9 7]\n",
      "정렬: [1 3 7 9]\n"
     ]
    }
   ],
   "source": [
    "# 넘파이 sort\n",
    "sort1 = np.sort(origin)\n",
    "print('원본:' ,origin)\n",
    "print('정렬:' ,sort1)"
   ]
  },
  {
   "cell_type": "code",
   "execution_count": 5,
   "metadata": {},
   "outputs": [
    {
     "name": "stdout",
     "output_type": "stream",
     "text": [
      "원본: [1 3 7 9]\n",
      "정렬: None\n"
     ]
    }
   ],
   "source": [
    "# 행렬의 sort\n",
    "sort2 = origin.sort()\n",
    "print('원본:' ,origin)\n",
    "print('정렬:' ,sort2)"
   ]
  },
  {
   "cell_type": "markdown",
   "metadata": {},
   "source": [
    "### 내림차순 정렬 [::-1]"
   ]
  },
  {
   "cell_type": "code",
   "execution_count": null,
   "metadata": {},
   "outputs": [],
   "source": []
  },
  {
   "cell_type": "code",
   "execution_count": null,
   "metadata": {},
   "outputs": [],
   "source": []
  },
  {
   "cell_type": "markdown",
   "metadata": {},
   "source": [
    "### 2차원 이상의 행렬에서\n",
    "\n",
    "- axis=0 : 행방향 -> 열단위\n",
    "- axis=1 : 열방향 -> 행단위"
   ]
  },
  {
   "cell_type": "code",
   "execution_count": 8,
   "metadata": {},
   "outputs": [
    {
     "name": "stdout",
     "output_type": "stream",
     "text": [
      "[[ 5  6  2]\n",
      " [ 9 11  3]]\n",
      "[[ 3  6  9]\n",
      " [ 2  5 11]]\n"
     ]
    }
   ],
   "source": [
    "arr = np.array([[9, 6, 3],[5, 11, 2]])\n",
    "\n",
    "#행단위 정렬\n",
    "\n",
    "sort1 = np.sort(arr,axis=0)\n",
    "print(sort1)\n",
    "\n",
    "#열단위 정렬\n",
    "sort2 = np.sort(arr,axis=1)\n",
    "print(sort2)"
   ]
  },
  {
   "cell_type": "code",
   "execution_count": 5,
   "metadata": {},
   "outputs": [],
   "source": [
    "?np.sort"
   ]
  },
  {
   "cell_type": "markdown",
   "metadata": {},
   "source": [
    "####  정렬된 행렬의 인덱스 반환 : argsort()"
   ]
  },
  {
   "cell_type": "code",
   "execution_count": 12,
   "metadata": {},
   "outputs": [
    {
     "data": {
      "text/plain": [
       "array([2, 0, 3, 1], dtype=int64)"
      ]
     },
     "execution_count": 12,
     "metadata": {},
     "output_type": "execute_result"
    }
   ],
   "source": [
    "arr = np.array([3, 8, 2, 5])\n",
    "\n",
    "idx = np.argsort(arr)\n",
    "idx"
   ]
  },
  {
   "cell_type": "markdown",
   "metadata": {},
   "source": []
  },
  {
   "cell_type": "code",
   "execution_count": 22,
   "metadata": {},
   "outputs": [
    {
     "name": "stdout",
     "output_type": "stream",
     "text": [
      "[3 0 4 2 1]\n",
      "[1 2 4 0 3]\n",
      "99 박길동\n",
      "88 김길동\n",
      "77 맹길동\n",
      "66 홍길동\n",
      "44 최길동\n"
     ]
    }
   ],
   "source": [
    "scores = np.array([66,99,88,44,77])\n",
    "names = np.array(['홍길동','박길동','김길동','최길동','맹길동'])\n",
    "\n",
    "#성적순으로 점수와 이름을 매칭하여 출력\n",
    "\n",
    "idr = np.argsort(scores)\n",
    "print(idr)\n",
    "\n",
    "idr2=idr[::-1]\n",
    "print(idr2)\n",
    "\n",
    "for a in idr2:\n",
    "    print(scores[a],names[a])\n",
    "    \n",
    "    \n",
    "       "
   ]
  },
  {
   "cell_type": "code",
   "execution_count": null,
   "metadata": {},
   "outputs": [],
   "source": []
  }
 ],
 "metadata": {
  "kernelspec": {
   "display_name": "Python 3",
   "language": "python",
   "name": "python3"
  },
  "language_info": {
   "codemirror_mode": {
    "name": "ipython",
    "version": 3
   },
   "file_extension": ".py",
   "mimetype": "text/x-python",
   "name": "python",
   "nbconvert_exporter": "python",
   "pygments_lexer": "ipython3",
   "version": "3.7.3"
  }
 },
 "nbformat": 4,
 "nbformat_minor": 2
}
