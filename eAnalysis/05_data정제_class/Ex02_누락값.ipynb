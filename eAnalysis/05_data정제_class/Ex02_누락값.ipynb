{
 "cells": [
  {
   "cell_type": "markdown",
   "metadata": {},
   "source": [
    "## 누락값 : NaN\n",
    "\n",
    "\n",
    "### * 누락값이 생기는 이유\n",
    "    1- 데이타 자체적으로 존재\n",
    "    2- 데이타 연결하면서\n",
    "    3- 데이타 입력시\n",
    "    4- 데이타 추출하여 연산할 때\n",
    "    \n",
    "\n",
    "### * 누락값 확인하기\n",
    "    1- 누락값 인지 확인\n",
    "        + df.isnull()\n",
    "        + df.notnull()\n",
    "    \n",
    "    2- 누락값이 아닌 값의 행수 확인\n",
    "        + df.shape[0] - df.count()\n",
    "        \n",
    "    3- 누락값 수 확인 \n",
    "        +  numpy 라이브러리의 count_nonzero() 이용\n",
    "\n",
    "\n",
    "    \n",
    "\n",
    "### * 누락값 처리하기\n",
    "     (1) 누락값 삭제하기 : dropna()\n",
    "     (2) 누락값을 다른 값으로 대치하기 : fillna()"
   ]
  },
  {
   "cell_type": "code",
   "execution_count": 7,
   "metadata": {
    "scrolled": true
   },
   "outputs": [
    {
     "name": "stdout",
     "output_type": "stream",
     "text": [
      "False\n",
      "False\n",
      "False\n",
      "False\n"
     ]
    }
   ],
   "source": [
    "# 누락값 개념\n",
    "from numpy import NaN, nan, NAN\n",
    "\n",
    "print(NaN==False) # False\n",
    "print(NaN==0) # False\n",
    "print(NaN=='') # False\n",
    "\n",
    "\n",
    "print(NaN == NaN) # False"
   ]
  },
  {
   "cell_type": "code",
   "execution_count": 14,
   "metadata": {},
   "outputs": [
    {
     "name": "stdout",
     "output_type": "stream",
     "text": [
      "True\n",
      "False\n",
      "False\n",
      "False\n",
      "False\n"
     ]
    }
   ],
   "source": [
    "# 누락값 비교 방법 : pandas 메소드 이용\n",
    "import pandas as pd\n",
    "\n",
    "print(pd.isnull(NaN)) #True\n",
    "print(pd.isnull(False)) #False\n",
    "print(pd.isnull(0))  #False\n",
    "print(pd.isnull(''))  #False\n",
    "\n",
    "print(pd.notnull(NaN)) #False"
   ]
  },
  {
   "cell_type": "code",
   "execution_count": 18,
   "metadata": {},
   "outputs": [
    {
     "name": "stderr",
     "output_type": "stream",
     "text": [
      "C:\\ProgramData\\Anaconda3\\lib\\site-packages\\ipykernel_launcher.py:19: FutureWarning: Sorting because non-concatenation axis is not aligned. A future version\n",
      "of pandas will change to not sort by default.\n",
      "\n",
      "To accept the future behavior, pass 'sort=False'.\n",
      "\n",
      "To retain the current behavior and silence the warning, pass 'sort=True'.\n",
      "\n"
     ]
    },
    {
     "data": {
      "text/html": [
       "<div>\n",
       "<style scoped>\n",
       "    .dataframe tbody tr th:only-of-type {\n",
       "        vertical-align: middle;\n",
       "    }\n",
       "\n",
       "    .dataframe tbody tr th {\n",
       "        vertical-align: top;\n",
       "    }\n",
       "\n",
       "    .dataframe thead th {\n",
       "        text-align: right;\n",
       "    }\n",
       "</style>\n",
       "<table border=\"1\" class=\"dataframe\">\n",
       "  <thead>\n",
       "    <tr style=\"text-align: right;\">\n",
       "      <th></th>\n",
       "      <th>dated</th>\n",
       "      <th>ident</th>\n",
       "      <th>site</th>\n",
       "    </tr>\n",
       "  </thead>\n",
       "  <tbody>\n",
       "    <tr>\n",
       "      <th>0</th>\n",
       "      <td>1927-02-08</td>\n",
       "      <td>619</td>\n",
       "      <td>DR-1</td>\n",
       "    </tr>\n",
       "    <tr>\n",
       "      <th>1</th>\n",
       "      <td>1927-02-10</td>\n",
       "      <td>622</td>\n",
       "      <td>DR-1</td>\n",
       "    </tr>\n",
       "    <tr>\n",
       "      <th>2</th>\n",
       "      <td>1939-01-07</td>\n",
       "      <td>734</td>\n",
       "      <td>DR-3</td>\n",
       "    </tr>\n",
       "    <tr>\n",
       "      <th>3</th>\n",
       "      <td>1930-01-12</td>\n",
       "      <td>735</td>\n",
       "      <td>DR-3</td>\n",
       "    </tr>\n",
       "    <tr>\n",
       "      <th>4</th>\n",
       "      <td>1930-02-26</td>\n",
       "      <td>751</td>\n",
       "      <td>DR-3</td>\n",
       "    </tr>\n",
       "    <tr>\n",
       "      <th>5</th>\n",
       "      <td>NaN</td>\n",
       "      <td>752</td>\n",
       "      <td>DR-3</td>\n",
       "    </tr>\n",
       "    <tr>\n",
       "      <th>6</th>\n",
       "      <td>1932-01-14</td>\n",
       "      <td>837</td>\n",
       "      <td>MSK-4</td>\n",
       "    </tr>\n",
       "    <tr>\n",
       "      <th>7</th>\n",
       "      <td>1932-03-22</td>\n",
       "      <td>844</td>\n",
       "      <td>DR-1</td>\n",
       "    </tr>\n",
       "    <tr>\n",
       "      <th>0</th>\n",
       "      <td>NaN</td>\n",
       "      <td>900</td>\n",
       "      <td>DR-4</td>\n",
       "    </tr>\n",
       "  </tbody>\n",
       "</table>\n",
       "</div>"
      ],
      "text/plain": [
       "        dated ident   site\n",
       "0  1927-02-08   619   DR-1\n",
       "1  1927-02-10   622   DR-1\n",
       "2  1939-01-07   734   DR-3\n",
       "3  1930-01-12   735   DR-3\n",
       "4  1930-02-26   751   DR-3\n",
       "5         NaN   752   DR-3\n",
       "6  1932-01-14   837  MSK-4\n",
       "7  1932-03-22   844   DR-1\n",
       "0         NaN   900   DR-4"
      ]
     },
     "execution_count": 18,
     "metadata": {},
     "output_type": "execute_result"
    }
   ],
   "source": [
    "\"\"\" 누락값이 생기는 이유\n",
    "    1- 데이타 자체적으로 존재\n",
    "    2- 데이타 연결하면서\n",
    "    3- 데이타 입력시\n",
    "    4- 데이타 추출하여 연산할 때\n",
    "\"\"\"\n",
    "\n",
    "import pandas as pd\n",
    "\n",
    "survey = pd.read_csv('./data/survey_survey.csv')\n",
    "# survey\n",
    "visited = pd.read_csv('./data/survey_visited.csv')\n",
    "# visited\n",
    "\n",
    "#2- 데이타 연결하면서\n",
    "vs = visited.merge(survey, left_on='ident', right_on='taken')\n",
    "vs\n",
    "\n",
    "#   3- 데이타 입력시\n",
    "new = pd.DataFrame([['900','DR-4']], columns=['ident','site'])\n",
    "pd.concat([visited,new])"
   ]
  },
  {
   "cell_type": "markdown",
   "metadata": {},
   "source": [
    "### Countires.tsv 파일에서\n",
    "\n",
    "1. 년도별 각 나라의 생활비의 평균을 구한다\n",
    "\n",
    "2. 1번의 데이타 셋에서 2000년도에서 2010년 동안의 데이타 셋을 추출\n",
    "\n",
    "3. 값이 있는 데이타만 출력한다면"
   ]
  },
  {
   "cell_type": "code",
   "execution_count": 54,
   "metadata": {},
   "outputs": [
    {
     "data": {
      "text/plain": [
       "year\n",
       "2002    65.694923\n",
       "2007    67.007423\n",
       "Name: lifeExp, dtype: float64"
      ]
     },
     "execution_count": 54,
     "metadata": {},
     "output_type": "execute_result"
    }
   ],
   "source": [
    "countries = pd.read_csv('./data/countries.tsv', sep='\\t')\n",
    "countries.head()\n",
    "\n",
    "# (1) 년도별 각 나라의 기대수명의 평균을 구한다\n",
    "\n",
    "expByYear = countries.groupby(['year'])['lifeExp'].mean()\n",
    "\n",
    "# (2) 2000~2010 동안의 데이타를 추출하고자 한다면\n",
    "expByYear.loc[range(2000,2011),]\n",
    "\n",
    "\n",
    "# (3) 범위 지정으로 인해 NaN값이 생긴 경우 해결책 -> 해당 데이타만 추출하고자\n",
    "expByYear[(expByYear.index >= 2000) & (expByYear.index<=2010)]\n",
    "\n"
   ]
  },
  {
   "cell_type": "markdown",
   "metadata": {},
   "source": [
    "## 누락값 처리하기\n",
    "\n",
    "\n",
    "(0) 누락값 확인\n",
    "\n",
    "(1) 누락값 삭제\n",
    "\n",
    "(2) 누락값 대치"
   ]
  },
  {
   "cell_type": "code",
   "execution_count": 5,
   "metadata": {},
   "outputs": [],
   "source": [
    "\"\"\" 누락값 확인 \"\"\"\n",
    "ebola = pd.read_csv('./data/ebola_timeseries.csv')\n",
    "# 제일 먼저 데이타 확인\n",
    "\n",
    "# 누락값이 아닌 값의 개수 확인\n",
    "\n",
    "\n",
    "# 누락값의 수 구하기\n",
    "\n",
    "\n",
    "# 전체적인 누락값의 수를 얻으려면 - numpy 라이브러리의 count_nonzero() 이용\n"
   ]
  },
  {
   "cell_type": "code",
   "execution_count": 6,
   "metadata": {},
   "outputs": [
    {
     "data": {
      "text/plain": [
       "' (1) 누락값 삭제하기 '"
      ]
     },
     "execution_count": 6,
     "metadata": {},
     "output_type": "execute_result"
    }
   ],
   "source": [
    "\"\"\" (1) 누락값 삭제하기 \"\"\"\n"
   ]
  },
  {
   "cell_type": "code",
   "execution_count": 7,
   "metadata": {},
   "outputs": [
    {
     "data": {
      "text/plain": [
       "' (2) 누락값 대치하기 '"
      ]
     },
     "execution_count": 7,
     "metadata": {},
     "output_type": "execute_result"
    }
   ],
   "source": [
    "\"\"\" (2) 누락값 대치하기 \"\"\"\n",
    "\n"
   ]
  },
  {
   "cell_type": "markdown",
   "metadata": {},
   "source": [
    "그럼 누락값 처리로 Data Cleaning 후 데이터 처리(Data Process)를 진행한다면?"
   ]
  }
 ],
 "metadata": {
  "kernelspec": {
   "display_name": "Python 3",
   "language": "python",
   "name": "python3"
  },
  "language_info": {
   "codemirror_mode": {
    "name": "ipython",
    "version": 3
   },
   "file_extension": ".py",
   "mimetype": "text/x-python",
   "name": "python",
   "nbconvert_exporter": "python",
   "pygments_lexer": "ipython3",
   "version": "3.7.3"
  }
 },
 "nbformat": 4,
 "nbformat_minor": 2
}
