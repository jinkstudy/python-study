{
 "cells": [
  {
   "cell_type": "markdown",
   "metadata": {},
   "source": [
    "## [ 연습 ] 누락값처리"
   ]
  },
  {
   "cell_type": "code",
   "execution_count": 2,
   "metadata": {
    "scrolled": false
   },
   "outputs": [],
   "source": [
    "import pandas as pd\n",
    "\n",
    "df = pd.read_csv('data/nan_sample.csv', encoding='utf-8')\n"
   ]
  },
  {
   "cell_type": "code",
   "execution_count": 3,
   "metadata": {},
   "outputs": [
    {
     "data": {
      "text/plain": [
       "141164.25"
      ]
     },
     "execution_count": 3,
     "metadata": {},
     "output_type": "execute_result"
    }
   ],
   "source": [
    "# 좋아요의 평균값을 구하고자 한다면?\n",
    "df['좋아요'].mean()"
   ]
  },
  {
   "cell_type": "code",
   "execution_count": 4,
   "metadata": {},
   "outputs": [
    {
     "data": {
      "text/plain": [
       "112931.4"
      ]
     },
     "execution_count": 4,
     "metadata": {},
     "output_type": "execute_result"
    }
   ],
   "source": [
    "df['좋아요'].sum() /5"
   ]
  },
  {
   "cell_type": "code",
   "execution_count": 5,
   "metadata": {},
   "outputs": [
    {
     "data": {
      "text/plain": [
       "141164.25"
      ]
     },
     "execution_count": 5,
     "metadata": {},
     "output_type": "execute_result"
    }
   ],
   "source": [
    "#Null값 제외\n",
    "df['좋아요'].sum() /4"
   ]
  },
  {
   "cell_type": "markdown",
   "metadata": {},
   "source": [
    "### 누락값(NaN)을 처리"
   ]
  },
  {
   "cell_type": "code",
   "execution_count": 15,
   "metadata": {},
   "outputs": [
    {
     "data": {
      "text/plain": [
       "141164.25"
      ]
     },
     "execution_count": 15,
     "metadata": {},
     "output_type": "execute_result"
    }
   ],
   "source": [
    "df['좋아요'].fillna(df['좋아요'].mean()).sum()/5\n",
    "\n"
   ]
  },
  {
   "cell_type": "markdown",
   "metadata": {},
   "source": [
    "### 데이타가 많은 경우 NaN 확인하는 방법 - missngno\n",
    "\n",
    "https://github.com/ResidentMario/missingno\n",
    "\n",
    "라이브러리 설치 (Anaconda Prompt 관리자 권한으로 실행)\n",
    " - > conda install missingno (안됨)\n",
    " - > pip install missingno (됨)\n",
    "\n",
    "Jupyter에서 바로 실행\n",
    " - > !pip install missingno"
   ]
  },
  {
   "cell_type": "code",
   "execution_count": 16,
   "metadata": {
    "scrolled": true
   },
   "outputs": [
    {
     "name": "stdout",
     "output_type": "stream",
     "text": [
      "Collecting missingno\n",
      "  Downloading https://files.pythonhosted.org/packages/2b/de/6e4dd6d720c49939544352155dc06a08c9f7e4271aa631a559dfbeaaf9d4/missingno-0.4.2-py3-none-any.whl\n",
      "Requirement already satisfied: scipy in c:\\programdata\\anaconda3\\lib\\site-packages (from missingno) (1.2.1)\n",
      "Requirement already satisfied: numpy in c:\\programdata\\anaconda3\\lib\\site-packages (from missingno) (1.16.4)\n",
      "Requirement already satisfied: seaborn in c:\\programdata\\anaconda3\\lib\\site-packages (from missingno) (0.9.0)\n",
      "Requirement already satisfied: matplotlib in c:\\programdata\\anaconda3\\lib\\site-packages (from missingno) (3.1.0)\n",
      "Requirement already satisfied: pandas>=0.15.2 in c:\\programdata\\anaconda3\\lib\\site-packages (from seaborn->missingno) (0.24.2)\n",
      "Requirement already satisfied: cycler>=0.10 in c:\\programdata\\anaconda3\\lib\\site-packages (from matplotlib->missingno) (0.10.0)\n",
      "Requirement already satisfied: kiwisolver>=1.0.1 in c:\\programdata\\anaconda3\\lib\\site-packages (from matplotlib->missingno) (1.1.0)\n",
      "Requirement already satisfied: pyparsing!=2.0.4,!=2.1.2,!=2.1.6,>=2.0.1 in c:\\programdata\\anaconda3\\lib\\site-packages (from matplotlib->missingno) (2.4.0)\n",
      "Requirement already satisfied: python-dateutil>=2.1 in c:\\programdata\\anaconda3\\lib\\site-packages (from matplotlib->missingno) (2.8.0)\n",
      "Requirement already satisfied: pytz>=2011k in c:\\programdata\\anaconda3\\lib\\site-packages (from pandas>=0.15.2->seaborn->missingno) (2019.1)\n",
      "Requirement already satisfied: six in c:\\programdata\\anaconda3\\lib\\site-packages (from cycler>=0.10->matplotlib->missingno) (1.12.0)\n",
      "Requirement already satisfied: setuptools in c:\\programdata\\anaconda3\\lib\\site-packages (from kiwisolver>=1.0.1->matplotlib->missingno) (41.0.1)\n",
      "Installing collected packages: missingno\n",
      "Successfully installed missingno-0.4.2\n"
     ]
    }
   ],
   "source": [
    "!pip install missingno"
   ]
  },
  {
   "cell_type": "code",
   "execution_count": 18,
   "metadata": {},
   "outputs": [
    {
     "data": {
      "text/html": [
       "<div>\n",
       "<style scoped>\n",
       "    .dataframe tbody tr th:only-of-type {\n",
       "        vertical-align: middle;\n",
       "    }\n",
       "\n",
       "    .dataframe tbody tr th {\n",
       "        vertical-align: top;\n",
       "    }\n",
       "\n",
       "    .dataframe thead th {\n",
       "        text-align: right;\n",
       "    }\n",
       "</style>\n",
       "<table border=\"1\" class=\"dataframe\">\n",
       "  <thead>\n",
       "    <tr style=\"text-align: right;\">\n",
       "      <th></th>\n",
       "      <th>0</th>\n",
       "      <th>1</th>\n",
       "      <th>2</th>\n",
       "      <th>3</th>\n",
       "      <th>4</th>\n",
       "      <th>5</th>\n",
       "      <th>6</th>\n",
       "      <th>7</th>\n",
       "      <th>8</th>\n",
       "      <th>9</th>\n",
       "      <th>...</th>\n",
       "      <th>90</th>\n",
       "      <th>91</th>\n",
       "      <th>92</th>\n",
       "      <th>93</th>\n",
       "      <th>94</th>\n",
       "      <th>95</th>\n",
       "      <th>96</th>\n",
       "      <th>97</th>\n",
       "      <th>98</th>\n",
       "      <th>99</th>\n",
       "    </tr>\n",
       "  </thead>\n",
       "  <tbody>\n",
       "    <tr>\n",
       "      <th>0</th>\n",
       "      <td>0.035261</td>\n",
       "      <td>1.419156</td>\n",
       "      <td>-0.890436</td>\n",
       "      <td>-0.449896</td>\n",
       "      <td>1.078848</td>\n",
       "      <td>0.133459</td>\n",
       "      <td>0.500095</td>\n",
       "      <td>-0.464081</td>\n",
       "      <td>-1.333768</td>\n",
       "      <td>-1.099737</td>\n",
       "      <td>...</td>\n",
       "      <td>0.501262</td>\n",
       "      <td>1.037188</td>\n",
       "      <td>1.512923</td>\n",
       "      <td>-0.049334</td>\n",
       "      <td>1.862991</td>\n",
       "      <td>-0.009065</td>\n",
       "      <td>2.640937</td>\n",
       "      <td>-1.934899</td>\n",
       "      <td>2.048224</td>\n",
       "      <td>-0.997865</td>\n",
       "    </tr>\n",
       "    <tr>\n",
       "      <th>1</th>\n",
       "      <td>-0.230011</td>\n",
       "      <td>2.362915</td>\n",
       "      <td>-0.544122</td>\n",
       "      <td>-0.206504</td>\n",
       "      <td>-1.503721</td>\n",
       "      <td>1.069321</td>\n",
       "      <td>1.195811</td>\n",
       "      <td>0.103015</td>\n",
       "      <td>1.673459</td>\n",
       "      <td>-0.818192</td>\n",
       "      <td>...</td>\n",
       "      <td>0.154775</td>\n",
       "      <td>0.209710</td>\n",
       "      <td>0.212712</td>\n",
       "      <td>-2.057598</td>\n",
       "      <td>-0.963177</td>\n",
       "      <td>-0.013573</td>\n",
       "      <td>1.124046</td>\n",
       "      <td>-0.191469</td>\n",
       "      <td>0.647169</td>\n",
       "      <td>0.313868</td>\n",
       "    </tr>\n",
       "    <tr>\n",
       "      <th>2</th>\n",
       "      <td>0.021880</td>\n",
       "      <td>0.403911</td>\n",
       "      <td>-0.546987</td>\n",
       "      <td>0.188110</td>\n",
       "      <td>0.817777</td>\n",
       "      <td>1.161378</td>\n",
       "      <td>-0.547155</td>\n",
       "      <td>0.442106</td>\n",
       "      <td>-1.096959</td>\n",
       "      <td>1.637814</td>\n",
       "      <td>...</td>\n",
       "      <td>0.272700</td>\n",
       "      <td>0.787458</td>\n",
       "      <td>-0.721813</td>\n",
       "      <td>-1.734129</td>\n",
       "      <td>-0.905206</td>\n",
       "      <td>0.785356</td>\n",
       "      <td>-0.197764</td>\n",
       "      <td>-0.859538</td>\n",
       "      <td>0.276526</td>\n",
       "      <td>0.016671</td>\n",
       "    </tr>\n",
       "    <tr>\n",
       "      <th>3</th>\n",
       "      <td>-0.175318</td>\n",
       "      <td>-1.270796</td>\n",
       "      <td>-1.117971</td>\n",
       "      <td>-0.096467</td>\n",
       "      <td>2.118872</td>\n",
       "      <td>0.928084</td>\n",
       "      <td>-0.433145</td>\n",
       "      <td>-0.997374</td>\n",
       "      <td>1.391272</td>\n",
       "      <td>1.737994</td>\n",
       "      <td>...</td>\n",
       "      <td>-0.763354</td>\n",
       "      <td>-1.713354</td>\n",
       "      <td>0.078416</td>\n",
       "      <td>-1.151097</td>\n",
       "      <td>-0.494954</td>\n",
       "      <td>-0.646847</td>\n",
       "      <td>-1.699170</td>\n",
       "      <td>-0.561295</td>\n",
       "      <td>-0.196502</td>\n",
       "      <td>-0.128388</td>\n",
       "    </tr>\n",
       "    <tr>\n",
       "      <th>4</th>\n",
       "      <td>0.084991</td>\n",
       "      <td>0.776161</td>\n",
       "      <td>0.811549</td>\n",
       "      <td>0.510536</td>\n",
       "      <td>-0.798965</td>\n",
       "      <td>0.147331</td>\n",
       "      <td>1.119110</td>\n",
       "      <td>-0.807698</td>\n",
       "      <td>2.160398</td>\n",
       "      <td>-0.350616</td>\n",
       "      <td>...</td>\n",
       "      <td>0.238744</td>\n",
       "      <td>0.947018</td>\n",
       "      <td>1.376662</td>\n",
       "      <td>0.736174</td>\n",
       "      <td>-0.415046</td>\n",
       "      <td>1.521633</td>\n",
       "      <td>-0.135731</td>\n",
       "      <td>1.461634</td>\n",
       "      <td>0.147174</td>\n",
       "      <td>-1.172247</td>\n",
       "    </tr>\n",
       "  </tbody>\n",
       "</table>\n",
       "<p>5 rows × 100 columns</p>\n",
       "</div>"
      ],
      "text/plain": [
       "         0         1         2         3         4         5         6   \\\n",
       "0  0.035261  1.419156 -0.890436 -0.449896  1.078848  0.133459  0.500095   \n",
       "1 -0.230011  2.362915 -0.544122 -0.206504 -1.503721  1.069321  1.195811   \n",
       "2  0.021880  0.403911 -0.546987  0.188110  0.817777  1.161378 -0.547155   \n",
       "3 -0.175318 -1.270796 -1.117971 -0.096467  2.118872  0.928084 -0.433145   \n",
       "4  0.084991  0.776161  0.811549  0.510536 -0.798965  0.147331  1.119110   \n",
       "\n",
       "         7         8         9   ...        90        91        92        93  \\\n",
       "0 -0.464081 -1.333768 -1.099737  ...  0.501262  1.037188  1.512923 -0.049334   \n",
       "1  0.103015  1.673459 -0.818192  ...  0.154775  0.209710  0.212712 -2.057598   \n",
       "2  0.442106 -1.096959  1.637814  ...  0.272700  0.787458 -0.721813 -1.734129   \n",
       "3 -0.997374  1.391272  1.737994  ... -0.763354 -1.713354  0.078416 -1.151097   \n",
       "4 -0.807698  2.160398 -0.350616  ...  0.238744  0.947018  1.376662  0.736174   \n",
       "\n",
       "         94        95        96        97        98        99  \n",
       "0  1.862991 -0.009065  2.640937 -1.934899  2.048224 -0.997865  \n",
       "1 -0.963177 -0.013573  1.124046 -0.191469  0.647169  0.313868  \n",
       "2 -0.905206  0.785356 -0.197764 -0.859538  0.276526  0.016671  \n",
       "3 -0.494954 -0.646847 -1.699170 -0.561295 -0.196502 -0.128388  \n",
       "4 -0.415046  1.521633 -0.135731  1.461634  0.147174 -1.172247  \n",
       "\n",
       "[5 rows x 100 columns]"
      ]
     },
     "execution_count": 18,
     "metadata": {},
     "output_type": "execute_result"
    }
   ],
   "source": [
    "import numpy as np\n",
    "df = pd.DataFrame(np.random.randn(100,100))\n",
    "df.head()"
   ]
  },
  {
   "cell_type": "code",
   "execution_count": 20,
   "metadata": {},
   "outputs": [
    {
     "data": {
      "text/html": [
       "<div>\n",
       "<style scoped>\n",
       "    .dataframe tbody tr th:only-of-type {\n",
       "        vertical-align: middle;\n",
       "    }\n",
       "\n",
       "    .dataframe tbody tr th {\n",
       "        vertical-align: top;\n",
       "    }\n",
       "\n",
       "    .dataframe thead th {\n",
       "        text-align: right;\n",
       "    }\n",
       "</style>\n",
       "<table border=\"1\" class=\"dataframe\">\n",
       "  <thead>\n",
       "    <tr style=\"text-align: right;\">\n",
       "      <th></th>\n",
       "      <th>0</th>\n",
       "      <th>1</th>\n",
       "      <th>2</th>\n",
       "      <th>3</th>\n",
       "      <th>4</th>\n",
       "      <th>5</th>\n",
       "      <th>6</th>\n",
       "      <th>7</th>\n",
       "      <th>8</th>\n",
       "      <th>9</th>\n",
       "      <th>...</th>\n",
       "      <th>90</th>\n",
       "      <th>91</th>\n",
       "      <th>92</th>\n",
       "      <th>93</th>\n",
       "      <th>94</th>\n",
       "      <th>95</th>\n",
       "      <th>96</th>\n",
       "      <th>97</th>\n",
       "      <th>98</th>\n",
       "      <th>99</th>\n",
       "    </tr>\n",
       "  </thead>\n",
       "  <tbody>\n",
       "    <tr>\n",
       "      <th>0</th>\n",
       "      <td>NaN</td>\n",
       "      <td>1.419156</td>\n",
       "      <td>NaN</td>\n",
       "      <td>NaN</td>\n",
       "      <td>1.078848</td>\n",
       "      <td>NaN</td>\n",
       "      <td>0.500095</td>\n",
       "      <td>NaN</td>\n",
       "      <td>NaN</td>\n",
       "      <td>NaN</td>\n",
       "      <td>...</td>\n",
       "      <td>0.501262</td>\n",
       "      <td>1.037188</td>\n",
       "      <td>1.512923</td>\n",
       "      <td>NaN</td>\n",
       "      <td>1.862991</td>\n",
       "      <td>NaN</td>\n",
       "      <td>2.640937</td>\n",
       "      <td>NaN</td>\n",
       "      <td>2.048224</td>\n",
       "      <td>NaN</td>\n",
       "    </tr>\n",
       "    <tr>\n",
       "      <th>1</th>\n",
       "      <td>NaN</td>\n",
       "      <td>2.362915</td>\n",
       "      <td>NaN</td>\n",
       "      <td>NaN</td>\n",
       "      <td>NaN</td>\n",
       "      <td>1.069321</td>\n",
       "      <td>1.195811</td>\n",
       "      <td>NaN</td>\n",
       "      <td>1.673459</td>\n",
       "      <td>NaN</td>\n",
       "      <td>...</td>\n",
       "      <td>NaN</td>\n",
       "      <td>NaN</td>\n",
       "      <td>NaN</td>\n",
       "      <td>NaN</td>\n",
       "      <td>NaN</td>\n",
       "      <td>NaN</td>\n",
       "      <td>1.124046</td>\n",
       "      <td>NaN</td>\n",
       "      <td>0.647169</td>\n",
       "      <td>0.313868</td>\n",
       "    </tr>\n",
       "    <tr>\n",
       "      <th>2</th>\n",
       "      <td>NaN</td>\n",
       "      <td>0.403911</td>\n",
       "      <td>NaN</td>\n",
       "      <td>NaN</td>\n",
       "      <td>0.817777</td>\n",
       "      <td>1.161378</td>\n",
       "      <td>NaN</td>\n",
       "      <td>0.442106</td>\n",
       "      <td>NaN</td>\n",
       "      <td>1.637814</td>\n",
       "      <td>...</td>\n",
       "      <td>NaN</td>\n",
       "      <td>0.787458</td>\n",
       "      <td>NaN</td>\n",
       "      <td>NaN</td>\n",
       "      <td>NaN</td>\n",
       "      <td>0.785356</td>\n",
       "      <td>NaN</td>\n",
       "      <td>NaN</td>\n",
       "      <td>NaN</td>\n",
       "      <td>NaN</td>\n",
       "    </tr>\n",
       "    <tr>\n",
       "      <th>3</th>\n",
       "      <td>NaN</td>\n",
       "      <td>NaN</td>\n",
       "      <td>NaN</td>\n",
       "      <td>NaN</td>\n",
       "      <td>2.118872</td>\n",
       "      <td>0.928084</td>\n",
       "      <td>NaN</td>\n",
       "      <td>NaN</td>\n",
       "      <td>1.391272</td>\n",
       "      <td>1.737994</td>\n",
       "      <td>...</td>\n",
       "      <td>NaN</td>\n",
       "      <td>NaN</td>\n",
       "      <td>NaN</td>\n",
       "      <td>NaN</td>\n",
       "      <td>NaN</td>\n",
       "      <td>NaN</td>\n",
       "      <td>NaN</td>\n",
       "      <td>NaN</td>\n",
       "      <td>NaN</td>\n",
       "      <td>NaN</td>\n",
       "    </tr>\n",
       "    <tr>\n",
       "      <th>4</th>\n",
       "      <td>NaN</td>\n",
       "      <td>0.776161</td>\n",
       "      <td>0.811549</td>\n",
       "      <td>0.510536</td>\n",
       "      <td>NaN</td>\n",
       "      <td>NaN</td>\n",
       "      <td>1.119110</td>\n",
       "      <td>NaN</td>\n",
       "      <td>2.160398</td>\n",
       "      <td>NaN</td>\n",
       "      <td>...</td>\n",
       "      <td>NaN</td>\n",
       "      <td>0.947018</td>\n",
       "      <td>1.376662</td>\n",
       "      <td>0.736174</td>\n",
       "      <td>NaN</td>\n",
       "      <td>1.521633</td>\n",
       "      <td>NaN</td>\n",
       "      <td>1.461634</td>\n",
       "      <td>NaN</td>\n",
       "      <td>NaN</td>\n",
       "    </tr>\n",
       "  </tbody>\n",
       "</table>\n",
       "<p>5 rows × 100 columns</p>\n",
       "</div>"
      ],
      "text/plain": [
       "   0         1         2         3         4         5         6         7   \\\n",
       "0 NaN  1.419156       NaN       NaN  1.078848       NaN  0.500095       NaN   \n",
       "1 NaN  2.362915       NaN       NaN       NaN  1.069321  1.195811       NaN   \n",
       "2 NaN  0.403911       NaN       NaN  0.817777  1.161378       NaN  0.442106   \n",
       "3 NaN       NaN       NaN       NaN  2.118872  0.928084       NaN       NaN   \n",
       "4 NaN  0.776161  0.811549  0.510536       NaN       NaN  1.119110       NaN   \n",
       "\n",
       "         8         9   ...        90        91        92        93        94  \\\n",
       "0       NaN       NaN  ...  0.501262  1.037188  1.512923       NaN  1.862991   \n",
       "1  1.673459       NaN  ...       NaN       NaN       NaN       NaN       NaN   \n",
       "2       NaN  1.637814  ...       NaN  0.787458       NaN       NaN       NaN   \n",
       "3  1.391272  1.737994  ...       NaN       NaN       NaN       NaN       NaN   \n",
       "4  2.160398       NaN  ...       NaN  0.947018  1.376662  0.736174       NaN   \n",
       "\n",
       "         95        96        97        98        99  \n",
       "0       NaN  2.640937       NaN  2.048224       NaN  \n",
       "1       NaN  1.124046       NaN  0.647169  0.313868  \n",
       "2  0.785356       NaN       NaN       NaN       NaN  \n",
       "3       NaN       NaN       NaN       NaN       NaN  \n",
       "4  1.521633       NaN  1.461634       NaN       NaN  \n",
       "\n",
       "[5 rows x 100 columns]"
      ]
     },
     "execution_count": 20,
     "metadata": {},
     "output_type": "execute_result"
    }
   ],
   "source": [
    "df = df[df>0.3]\n",
    "df.head()"
   ]
  },
  {
   "cell_type": "code",
   "execution_count": 24,
   "metadata": {},
   "outputs": [
    {
     "data": {
      "text/plain": [
       "<matplotlib.axes._subplots.AxesSubplot at 0x1436b1c66a0>"
      ]
     },
     "execution_count": 24,
     "metadata": {},
     "output_type": "execute_result"
    },
    {
     "data": {
      "image/png": "[encoded data removed]",
      "text/plain": [
       "<Figure size 1800x720 with 2 Axes>"
      ]
     },
     "metadata": {
      "needs_background": "light"
     },
     "output_type": "display_data"
    }
   ],
   "source": [
    "%matplotlib inline\n",
    "\n",
    "import missingno as msno\n",
    "msno.matrix(df) # 하얀색 공백이 null값"
   ]
  },
  {
   "cell_type": "code",
   "execution_count": 25,
   "metadata": {},
   "outputs": [
    {
     "data": {
      "text/plain": [
       "(100, 100)"
      ]
     },
     "execution_count": 25,
     "metadata": {},
     "output_type": "execute_result"
    }
   ],
   "source": [
    "df.shape"
   ]
  },
  {
   "cell_type": "code",
   "execution_count": 27,
   "metadata": {},
   "outputs": [
    {
     "data": {
      "text/plain": [
       "(0, 100)"
      ]
     },
     "execution_count": 27,
     "metadata": {},
     "output_type": "execute_result"
    }
   ],
   "source": [
    "df2 = df.dropna()\n",
    "df2.shape"
   ]
  },
  {
   "cell_type": "code",
   "execution_count": null,
   "metadata": {},
   "outputs": [],
   "source": []
  },
  {
   "cell_type": "code",
   "execution_count": null,
   "metadata": {},
   "outputs": [],
   "source": []
  },
  {
   "cell_type": "code",
   "execution_count": null,
   "metadata": {},
   "outputs": [],
   "source": []
  }
 ],
 "metadata": {
  "kernelspec": {
   "display_name": "Python 3",
   "language": "python",
   "name": "python3"
  },
  "language_info": {
   "codemirror_mode": {
    "name": "ipython",
    "version": 3
   },
   "file_extension": ".py",
   "mimetype": "text/x-python",
   "name": "python",
   "nbconvert_exporter": "python",
   "pygments_lexer": "ipython3",
   "version": "3.7.3"
  }
 },
 "nbformat": 4,
 "nbformat_minor": 2
}
