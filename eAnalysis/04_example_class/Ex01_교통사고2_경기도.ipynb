{
 "cells": [
  {
   "cell_type": "markdown",
   "metadata": {},
   "source": [
    "## [예] 경기도에서 교통사망사고가 많은 5지역을 분석하여 도식화\n",
    "\n",
    "(1) 발생지시도가 경기도 데이타셋 필터링\n",
    "\n",
    "(2) 경기도내에서도 발생지시군구의 그룹핑\n",
    "\n",
    "(3) 사망자수의 합계로 차트 만들기\n"
   ]
  },
  {
   "cell_type": "code",
   "execution_count": 80,
   "metadata": {},
   "outputs": [],
   "source": [
    "\n",
    "%matplotlib inline\n",
    "import pandas as pd\n",
    "import matplotlib.pyplot as plt\n",
    "from matplotlib import font_manager, rc\n",
    "\n",
    "# 한글깨짐처리\n",
    "font_loc = \"c:/Windows/Fonts/malgun.ttf\"\n",
    "font_name=font_manager.FontProperties(fname=font_loc).get_name()\n",
    "rc('font', family=font_name)\n"
   ]
  },
  {
   "cell_type": "code",
   "execution_count": 88,
   "metadata": {},
   "outputs": [
    {
     "data": {
      "text/html": [
       "<div>\n",
       "<style scoped>\n",
       "    .dataframe tbody tr th:only-of-type {\n",
       "        vertical-align: middle;\n",
       "    }\n",
       "\n",
       "    .dataframe tbody tr th {\n",
       "        vertical-align: top;\n",
       "    }\n",
       "\n",
       "    .dataframe thead th {\n",
       "        text-align: right;\n",
       "    }\n",
       "</style>\n",
       "<table border=\"1\" class=\"dataframe\">\n",
       "  <thead>\n",
       "    <tr style=\"text-align: right;\">\n",
       "      <th></th>\n",
       "      <th>발생년</th>\n",
       "      <th>발생년월일시</th>\n",
       "      <th>발생분</th>\n",
       "      <th>주야</th>\n",
       "      <th>요일</th>\n",
       "      <th>사망자수</th>\n",
       "      <th>사상자수</th>\n",
       "      <th>중상자수</th>\n",
       "      <th>경상자수</th>\n",
       "      <th>부상신고자수</th>\n",
       "      <th>...</th>\n",
       "      <th>도로형태_대분류</th>\n",
       "      <th>도로형태</th>\n",
       "      <th>당사자종별_1당_대분류</th>\n",
       "      <th>당사자종별_1당</th>\n",
       "      <th>당사자종별_2당_대분류</th>\n",
       "      <th>당사자종별_2당</th>\n",
       "      <th>발생위치X_UTMK</th>\n",
       "      <th>발생위치Y_UTMK</th>\n",
       "      <th>경도</th>\n",
       "      <th>위도</th>\n",
       "    </tr>\n",
       "  </thead>\n",
       "  <tbody>\n",
       "    <tr>\n",
       "      <th>1</th>\n",
       "      <td>2012</td>\n",
       "      <td>2012033013</td>\n",
       "      <td>32</td>\n",
       "      <td>주간</td>\n",
       "      <td>금</td>\n",
       "      <td>1</td>\n",
       "      <td>1</td>\n",
       "      <td>0</td>\n",
       "      <td>0</td>\n",
       "      <td>0</td>\n",
       "      <td>...</td>\n",
       "      <td>단일로</td>\n",
       "      <td>기타단일로</td>\n",
       "      <td>화물차</td>\n",
       "      <td>소형</td>\n",
       "      <td>특수차</td>\n",
       "      <td>경형</td>\n",
       "      <td>960392</td>\n",
       "      <td>1924378</td>\n",
       "      <td>127.052937</td>\n",
       "      <td>37.317615</td>\n",
       "    </tr>\n",
       "    <tr>\n",
       "      <th>3</th>\n",
       "      <td>2012</td>\n",
       "      <td>2012062814</td>\n",
       "      <td>10</td>\n",
       "      <td>주간</td>\n",
       "      <td>목</td>\n",
       "      <td>1</td>\n",
       "      <td>1</td>\n",
       "      <td>0</td>\n",
       "      <td>0</td>\n",
       "      <td>0</td>\n",
       "      <td>...</td>\n",
       "      <td>단일로</td>\n",
       "      <td>기타단일로</td>\n",
       "      <td>화물차</td>\n",
       "      <td>대형</td>\n",
       "      <td>승용차</td>\n",
       "      <td>소형</td>\n",
       "      <td>992942</td>\n",
       "      <td>1915569</td>\n",
       "      <td>127.420426</td>\n",
       "      <td>37.238956</td>\n",
       "    </tr>\n",
       "    <tr>\n",
       "      <th>6</th>\n",
       "      <td>2012</td>\n",
       "      <td>2012053104</td>\n",
       "      <td>17</td>\n",
       "      <td>야간</td>\n",
       "      <td>목</td>\n",
       "      <td>1</td>\n",
       "      <td>2</td>\n",
       "      <td>1</td>\n",
       "      <td>0</td>\n",
       "      <td>0</td>\n",
       "      <td>...</td>\n",
       "      <td>단일로</td>\n",
       "      <td>기타단일로</td>\n",
       "      <td>승용차</td>\n",
       "      <td>소형</td>\n",
       "      <td>건설기계</td>\n",
       "      <td>건설기계</td>\n",
       "      <td>971512</td>\n",
       "      <td>1953274</td>\n",
       "      <td>127.177364</td>\n",
       "      <td>37.578407</td>\n",
       "    </tr>\n",
       "    <tr>\n",
       "      <th>13</th>\n",
       "      <td>2012</td>\n",
       "      <td>2012101602</td>\n",
       "      <td>45</td>\n",
       "      <td>야간</td>\n",
       "      <td>화</td>\n",
       "      <td>1</td>\n",
       "      <td>1</td>\n",
       "      <td>0</td>\n",
       "      <td>0</td>\n",
       "      <td>0</td>\n",
       "      <td>...</td>\n",
       "      <td>단일로</td>\n",
       "      <td>기타단일로</td>\n",
       "      <td>승용차</td>\n",
       "      <td>소형</td>\n",
       "      <td>특수차</td>\n",
       "      <td>대형</td>\n",
       "      <td>946961</td>\n",
       "      <td>1921288</td>\n",
       "      <td>126.901626</td>\n",
       "      <td>37.289021</td>\n",
       "    </tr>\n",
       "    <tr>\n",
       "      <th>14</th>\n",
       "      <td>2012</td>\n",
       "      <td>2012121404</td>\n",
       "      <td>50</td>\n",
       "      <td>야간</td>\n",
       "      <td>금</td>\n",
       "      <td>1</td>\n",
       "      <td>2</td>\n",
       "      <td>0</td>\n",
       "      <td>1</td>\n",
       "      <td>0</td>\n",
       "      <td>...</td>\n",
       "      <td>단일로</td>\n",
       "      <td>기타단일로</td>\n",
       "      <td>화물차</td>\n",
       "      <td>소형</td>\n",
       "      <td>화물차</td>\n",
       "      <td>대형</td>\n",
       "      <td>942679</td>\n",
       "      <td>1937985</td>\n",
       "      <td>126.852028</td>\n",
       "      <td>37.439262</td>\n",
       "    </tr>\n",
       "  </tbody>\n",
       "</table>\n",
       "<p>5 rows × 27 columns</p>\n",
       "</div>"
      ],
      "text/plain": [
       "     발생년      발생년월일시  발생분  주야 요일  사망자수  사상자수  중상자수  경상자수  부상신고자수  ...  \\\n",
       "1   2012  2012033013   32  주간  금     1     1     0     0       0  ...   \n",
       "3   2012  2012062814   10  주간  목     1     1     0     0       0  ...   \n",
       "6   2012  2012053104   17  야간  목     1     2     1     0       0  ...   \n",
       "13  2012  2012101602   45  야간  화     1     1     0     0       0  ...   \n",
       "14  2012  2012121404   50  야간  금     1     2     0     1       0  ...   \n",
       "\n",
       "   도로형태_대분류   도로형태 당사자종별_1당_대분류 당사자종별_1당 당사자종별_2당_대분류 당사자종별_2당 발생위치X_UTMK  \\\n",
       "1       단일로  기타단일로          화물차       소형          특수차       경형     960392   \n",
       "3       단일로  기타단일로          화물차       대형          승용차       소형     992942   \n",
       "6       단일로  기타단일로          승용차       소형         건설기계     건설기계     971512   \n",
       "13      단일로  기타단일로          승용차       소형          특수차       대형     946961   \n",
       "14      단일로  기타단일로          화물차       소형          화물차       대형     942679   \n",
       "\n",
       "   발생위치Y_UTMK          경도         위도  \n",
       "1     1924378  127.052937  37.317615  \n",
       "3     1915569  127.420426  37.238956  \n",
       "6     1953274  127.177364  37.578407  \n",
       "13    1921288  126.901626  37.289021  \n",
       "14    1937985  126.852028  37.439262  \n",
       "\n",
       "[5 rows x 27 columns]"
      ]
     },
     "execution_count": 88,
     "metadata": {},
     "output_type": "execute_result"
    }
   ],
   "source": [
    "# 데이타 읽어오기\n",
    "data=pd.read_csv('data/accidentdata.csv')\n",
    "#data.columns\n",
    "# (1) 발생지시도가 경기도인 필터링\n",
    "\n",
    "gyeonggi=data[data['발생지시도'] =='경기']\n",
    "gyeonggi.head()"
   ]
  },
  {
   "cell_type": "code",
   "execution_count": 48,
   "metadata": {},
   "outputs": [],
   "source": [
    "# (2) 경기도내에서도 발생지시군구의 그룹핑\n",
    "sigungu = gyeonggi.groupby('발생지시군구')\n"
   ]
  },
  {
   "cell_type": "code",
   "execution_count": 83,
   "metadata": {
    "scrolled": true
   },
   "outputs": [
    {
     "data": {
      "text/plain": [
       "Text(0, 0.5, '사망자수')"
      ]
     },
     "execution_count": 83,
     "metadata": {},
     "output_type": "execute_result"
    },
    {
     "data": {
      "image/png": "[encoded data removed]",
      "text/plain": [
       "<Figure size 432x288 with 1 Axes>"
      ]
     },
     "metadata": {
      "needs_background": "light"
     },
     "output_type": "display_data"
    }
   ],
   "source": [
    "# (3) 사망자수의 합계로 차트 만들기\n",
    "death = sigungu.sum()\n",
    "\n",
    "a = death['사망자수'].plot(kind='bar')\n",
    "a.set_title(\"경기도 시군구별 사망자 수\")\n",
    "a.set_xlabel(\"시군구\")\n",
    "a.set_ylabel(\"사망자수\")\n",
    "\n",
    "\n"
   ]
  },
  {
   "cell_type": "code",
   "execution_count": 87,
   "metadata": {},
   "outputs": [
    {
     "data": {
      "text/plain": [
       "Text(0, 0.5, '사망자수')"
      ]
     },
     "execution_count": 87,
     "metadata": {},
     "output_type": "execute_result"
    },
    {
     "data": {
      "image/png": "[encoded data removed]",
      "text/plain": [
       "<Figure size 432x288 with 1 Axes>"
      ]
     },
     "metadata": {
      "needs_background": "light"
     },
     "output_type": "display_data"
    }
   ],
   "source": [
    "# (4) 경기도 내에서 사망자 순 5개 지역 추출\n",
    "death_sort = death.sort_values(\"사망자수\",ascending = 0)\n",
    "top5 = death_sort.head()\n",
    "\n",
    "a=top5['사망자수'].plot(kind = 'bar')\n",
    "\n",
    "a.set_title(\"경기도 시군구별 사망자 수 TOP 5\")\n",
    "a.set_xlabel(\"시군구\")\n",
    "a.set_ylabel(\"사망자수\")"
   ]
  },
  {
   "cell_type": "code",
   "execution_count": null,
   "metadata": {},
   "outputs": [],
   "source": []
  },
  {
   "cell_type": "code",
   "execution_count": null,
   "metadata": {},
   "outputs": [],
   "source": []
  },
  {
   "cell_type": "code",
   "execution_count": null,
   "metadata": {},
   "outputs": [],
   "source": []
  }
 ],
 "metadata": {
  "kernelspec": {
   "display_name": "Python 3",
   "language": "python",
   "name": "python3"
  },
  "language_info": {
   "codemirror_mode": {
    "name": "ipython",
    "version": 3
   },
   "file_extension": ".py",
   "mimetype": "text/x-python",
   "name": "python",
   "nbconvert_exporter": "python",
   "pygments_lexer": "ipython3",
   "version": "3.7.3"
  }
 },
 "nbformat": 4,
 "nbformat_minor": 2
}
