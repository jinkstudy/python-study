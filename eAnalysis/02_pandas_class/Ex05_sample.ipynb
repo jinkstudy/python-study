{
 "cells": [
  {
   "cell_type": "markdown",
   "metadata": {},
   "source": [
    "###  데이타 분석\n",
    "\n",
    "데이타 -> 필터링 -> 정제 -> 시각화 -> 분석\n",
    "\n",
    "\n",
    "### 데이타 필터링\n",
    "\n",
    "분석에 필요한 데이타를 거르는 작업\n",
    "\n",
    "# 고속버스 데이타셋에서 인사이트를 도출\n",
    "\n",
    "[예] \n",
    "\n",
    "1. 우승고속에 대한 데이타 필터링(추출)\n",
    "\n",
    "2. 경부선에서 총이용인원이 1000명 이상인 데이타 필터링(추출)\n",
    "\n",
    "3. 그 외 데이타를 찾아내시오"
   ]
  },
  {
   "cell_type": "code",
   "execution_count": 100,
   "metadata": {
    "scrolled": true
   },
   "outputs": [
    {
     "data": {
      "text/html": [
       "<div>\n",
       "<style scoped>\n",
       "    .dataframe tbody tr th:only-of-type {\n",
       "        vertical-align: middle;\n",
       "    }\n",
       "\n",
       "    .dataframe tbody tr th {\n",
       "        vertical-align: top;\n",
       "    }\n",
       "\n",
       "    .dataframe thead th {\n",
       "        text-align: right;\n",
       "    }\n",
       "</style>\n",
       "<table border=\"1\" class=\"dataframe\">\n",
       "  <thead>\n",
       "    <tr style=\"text-align: right;\">\n",
       "      <th></th>\n",
       "      <th>차종</th>\n",
       "      <th>선별</th>\n",
       "      <th>출발지</th>\n",
       "      <th>도착지</th>\n",
       "      <th>거리</th>\n",
       "      <th>총운행횟수</th>\n",
       "      <th>총이용인원</th>\n",
       "      <th>이용율</th>\n",
       "    </tr>\n",
       "  </thead>\n",
       "  <tbody>\n",
       "    <tr>\n",
       "      <th>0</th>\n",
       "      <td>우등</td>\n",
       "      <td>88선</td>\n",
       "      <td>광주</td>\n",
       "      <td>울산</td>\n",
       "      <td>327.8</td>\n",
       "      <td>412</td>\n",
       "      <td>7283</td>\n",
       "      <td>63.1</td>\n",
       "    </tr>\n",
       "    <tr>\n",
       "      <th>1</th>\n",
       "      <td>고속</td>\n",
       "      <td>88선</td>\n",
       "      <td>광주</td>\n",
       "      <td>울산</td>\n",
       "      <td>327.8</td>\n",
       "      <td>145</td>\n",
       "      <td>3050</td>\n",
       "      <td>46.7</td>\n",
       "    </tr>\n",
       "    <tr>\n",
       "      <th>2</th>\n",
       "      <td>우등</td>\n",
       "      <td>88선</td>\n",
       "      <td>광주</td>\n",
       "      <td>울산신복</td>\n",
       "      <td>327.8</td>\n",
       "      <td>164</td>\n",
       "      <td>545</td>\n",
       "      <td>11.9</td>\n",
       "    </tr>\n",
       "    <tr>\n",
       "      <th>3</th>\n",
       "      <td>고속</td>\n",
       "      <td>88선</td>\n",
       "      <td>광주</td>\n",
       "      <td>울산신복</td>\n",
       "      <td>327.8</td>\n",
       "      <td>70</td>\n",
       "      <td>311</td>\n",
       "      <td>9.9</td>\n",
       "    </tr>\n",
       "    <tr>\n",
       "      <th>4</th>\n",
       "      <td>우등</td>\n",
       "      <td>88선</td>\n",
       "      <td>광주</td>\n",
       "      <td>동대구</td>\n",
       "      <td>219.3</td>\n",
       "      <td>1369</td>\n",
       "      <td>21873</td>\n",
       "      <td>57.1</td>\n",
       "    </tr>\n",
       "  </tbody>\n",
       "</table>\n",
       "</div>"
      ],
      "text/plain": [
       "   차종   선별 출발지   도착지     거리  총운행횟수  총이용인원   이용율\n",
       "0  우등  88선  광주    울산  327.8    412   7283  63.1\n",
       "1  고속  88선  광주    울산  327.8    145   3050  46.7\n",
       "2  우등  88선  광주  울산신복  327.8    164    545  11.9\n",
       "3  고속  88선  광주  울산신복  327.8     70    311   9.9\n",
       "4  우등  88선  광주   동대구  219.3   1369  21873  57.1"
      ]
     },
     "execution_count": 100,
     "metadata": {},
     "output_type": "execute_result"
    }
   ],
   "source": [
    "import pandas as pd\n",
    "\n",
    "df = pd.read_excel('data/고속버스.xlsx') \n",
    "       # sheetname='highway'  encoding='cp949' 추가 안해도 실행  \n",
    "df.head(5)  # 상위 5개만 보임"
   ]
  },
  {
   "cell_type": "markdown",
   "metadata": {},
   "source": [
    "### 이용인원이 많은 노선 10개 검색"
   ]
  },
  {
   "cell_type": "code",
   "execution_count": 81,
   "metadata": {},
   "outputs": [
    {
     "data": {
      "text/html": [
       "<div>\n",
       "<style scoped>\n",
       "    .dataframe tbody tr th:only-of-type {\n",
       "        vertical-align: middle;\n",
       "    }\n",
       "\n",
       "    .dataframe tbody tr th {\n",
       "        vertical-align: top;\n",
       "    }\n",
       "\n",
       "    .dataframe thead th {\n",
       "        text-align: right;\n",
       "    }\n",
       "</style>\n",
       "<table border=\"1\" class=\"dataframe\">\n",
       "  <thead>\n",
       "    <tr style=\"text-align: right;\">\n",
       "      <th></th>\n",
       "      <th>차종</th>\n",
       "      <th>선별</th>\n",
       "      <th>출발지</th>\n",
       "      <th>도착지</th>\n",
       "      <th>거리</th>\n",
       "      <th>총운행횟수</th>\n",
       "      <th>총이용인원</th>\n",
       "      <th>이용율</th>\n",
       "    </tr>\n",
       "  </thead>\n",
       "  <tbody>\n",
       "    <tr>\n",
       "      <th>23</th>\n",
       "      <td>고속</td>\n",
       "      <td>경부선</td>\n",
       "      <td>서울경부</td>\n",
       "      <td>천안</td>\n",
       "      <td>84.1</td>\n",
       "      <td>5213</td>\n",
       "      <td>185241</td>\n",
       "      <td>79.0</td>\n",
       "    </tr>\n",
       "    <tr>\n",
       "      <th>233</th>\n",
       "      <td>우등</td>\n",
       "      <td>호남선</td>\n",
       "      <td>서울호남</td>\n",
       "      <td>광주</td>\n",
       "      <td>290.8</td>\n",
       "      <td>7247</td>\n",
       "      <td>142422</td>\n",
       "      <td>70.2</td>\n",
       "    </tr>\n",
       "    <tr>\n",
       "      <th>18</th>\n",
       "      <td>고속</td>\n",
       "      <td>경부선</td>\n",
       "      <td>서울경부</td>\n",
       "      <td>안성</td>\n",
       "      <td>77.8</td>\n",
       "      <td>3541</td>\n",
       "      <td>99277</td>\n",
       "      <td>62.3</td>\n",
       "    </tr>\n",
       "    <tr>\n",
       "      <th>272</th>\n",
       "      <td>우등</td>\n",
       "      <td>호남선</td>\n",
       "      <td>서울호남</td>\n",
       "      <td>전주</td>\n",
       "      <td>202.6</td>\n",
       "      <td>5117</td>\n",
       "      <td>94089</td>\n",
       "      <td>65.7</td>\n",
       "    </tr>\n",
       "    <tr>\n",
       "      <th>205</th>\n",
       "      <td>고속</td>\n",
       "      <td>영동선</td>\n",
       "      <td>서울경부</td>\n",
       "      <td>이천</td>\n",
       "      <td>73.1</td>\n",
       "      <td>3071</td>\n",
       "      <td>79832</td>\n",
       "      <td>57.8</td>\n",
       "    </tr>\n",
       "    <tr>\n",
       "      <th>21</th>\n",
       "      <td>우등</td>\n",
       "      <td>경부선</td>\n",
       "      <td>서울경부</td>\n",
       "      <td>대전복합</td>\n",
       "      <td>153.2</td>\n",
       "      <td>3555</td>\n",
       "      <td>77759</td>\n",
       "      <td>78.1</td>\n",
       "    </tr>\n",
       "    <tr>\n",
       "      <th>31</th>\n",
       "      <td>우등</td>\n",
       "      <td>경부선</td>\n",
       "      <td>서울경부</td>\n",
       "      <td>청주</td>\n",
       "      <td>123.0</td>\n",
       "      <td>3705</td>\n",
       "      <td>77586</td>\n",
       "      <td>74.8</td>\n",
       "    </tr>\n",
       "    <tr>\n",
       "      <th>229</th>\n",
       "      <td>우등</td>\n",
       "      <td>호남선</td>\n",
       "      <td>서울호남</td>\n",
       "      <td>유성</td>\n",
       "      <td>155.7</td>\n",
       "      <td>3300</td>\n",
       "      <td>75421</td>\n",
       "      <td>81.6</td>\n",
       "    </tr>\n",
       "    <tr>\n",
       "      <th>20</th>\n",
       "      <td>고속</td>\n",
       "      <td>경부선</td>\n",
       "      <td>서울경부</td>\n",
       "      <td>평택</td>\n",
       "      <td>69.8</td>\n",
       "      <td>2770</td>\n",
       "      <td>72167</td>\n",
       "      <td>57.9</td>\n",
       "    </tr>\n",
       "    <tr>\n",
       "      <th>234</th>\n",
       "      <td>고속</td>\n",
       "      <td>호남선</td>\n",
       "      <td>서울호남</td>\n",
       "      <td>광주</td>\n",
       "      <td>290.8</td>\n",
       "      <td>2038</td>\n",
       "      <td>68510</td>\n",
       "      <td>74.7</td>\n",
       "    </tr>\n",
       "  </tbody>\n",
       "</table>\n",
       "</div>"
      ],
      "text/plain": [
       "     차종   선별   출발지   도착지     거리  총운행횟수   총이용인원   이용율\n",
       "23   고속  경부선  서울경부    천안   84.1   5213  185241  79.0\n",
       "233  우등  호남선  서울호남    광주  290.8   7247  142422  70.2\n",
       "18   고속  경부선  서울경부    안성   77.8   3541   99277  62.3\n",
       "272  우등  호남선  서울호남    전주  202.6   5117   94089  65.7\n",
       "205  고속  영동선  서울경부    이천   73.1   3071   79832  57.8\n",
       "21   우등  경부선  서울경부  대전복합  153.2   3555   77759  78.1\n",
       "31   우등  경부선  서울경부    청주  123.0   3705   77586  74.8\n",
       "229  우등  호남선  서울호남    유성  155.7   3300   75421  81.6\n",
       "20   고속  경부선  서울경부    평택   69.8   2770   72167  57.9\n",
       "234  고속  호남선  서울호남    광주  290.8   2038   68510  74.7"
      ]
     },
     "execution_count": 81,
     "metadata": {},
     "output_type": "execute_result"
    }
   ],
   "source": [
    "# 이용인원이 많은 노선 10개 검색\n",
    "\n",
    "top = df.sort_values('총이용인원',ascending = 0)\n",
    "top.head(10)\n",
    "\n",
    "\n"
   ]
  },
  {
   "cell_type": "markdown",
   "metadata": {},
   "source": [
    "[연습]"
   ]
  },
  {
   "cell_type": "code",
   "execution_count": 130,
   "metadata": {
    "scrolled": true
   },
   "outputs": [
    {
     "data": {
      "text/plain": [
       "<matplotlib.axes._subplots.AxesSubplot at 0x25fe6aac780>"
      ]
     },
     "execution_count": 130,
     "metadata": {},
     "output_type": "execute_result"
    },
    {
     "data": {
      "image/png": "[encoded data removed]",
      "text/plain": [
       "<Figure size 432x288 with 1 Axes>"
      ]
     },
     "metadata": {
      "needs_background": "light"
     },
     "output_type": "display_data"
    }
   ],
   "source": [
    "# 총 이용인원이 많은 인기 도착지 top 10\n",
    "pop = df.groupby('도착지').sum().sort_values('총이용인원',ascending=0)[['총운행횟수','총이용인원']]\n",
    "pop1 = pop.head(10)['총이용인원']\n",
    "\n",
    "pop1.plot(kind = \"bar\")"
   ]
  },
  {
   "cell_type": "code",
   "execution_count": 80,
   "metadata": {
    "scrolled": true
   },
   "outputs": [
    {
     "data": {
      "text/html": [
       "<div>\n",
       "<style scoped>\n",
       "    .dataframe tbody tr th:only-of-type {\n",
       "        vertical-align: middle;\n",
       "    }\n",
       "\n",
       "    .dataframe tbody tr th {\n",
       "        vertical-align: top;\n",
       "    }\n",
       "\n",
       "    .dataframe thead th {\n",
       "        text-align: right;\n",
       "    }\n",
       "</style>\n",
       "<table border=\"1\" class=\"dataframe\">\n",
       "  <thead>\n",
       "    <tr style=\"text-align: right;\">\n",
       "      <th></th>\n",
       "      <th>총운행횟수</th>\n",
       "      <th>총이용인원</th>\n",
       "    </tr>\n",
       "    <tr>\n",
       "      <th>도착지</th>\n",
       "      <th></th>\n",
       "      <th></th>\n",
       "    </tr>\n",
       "  </thead>\n",
       "  <tbody>\n",
       "    <tr>\n",
       "      <th>광주</th>\n",
       "      <td>15684</td>\n",
       "      <td>281868</td>\n",
       "    </tr>\n",
       "    <tr>\n",
       "      <th>전주</th>\n",
       "      <td>11773</td>\n",
       "      <td>216970</td>\n",
       "    </tr>\n",
       "    <tr>\n",
       "      <th>동대구</th>\n",
       "      <td>12594</td>\n",
       "      <td>197055</td>\n",
       "    </tr>\n",
       "    <tr>\n",
       "      <th>부산</th>\n",
       "      <td>8906</td>\n",
       "      <td>128734</td>\n",
       "    </tr>\n",
       "    <tr>\n",
       "      <th>대전복합</th>\n",
       "      <td>7150</td>\n",
       "      <td>128704</td>\n",
       "    </tr>\n",
       "    <tr>\n",
       "      <th>청주</th>\n",
       "      <td>5086</td>\n",
       "      <td>94989</td>\n",
       "    </tr>\n",
       "    <tr>\n",
       "      <th>유성</th>\n",
       "      <td>3300</td>\n",
       "      <td>75421</td>\n",
       "    </tr>\n",
       "    <tr>\n",
       "      <th>진주</th>\n",
       "      <td>4896</td>\n",
       "      <td>74094</td>\n",
       "    </tr>\n",
       "    <tr>\n",
       "      <th>원주</th>\n",
       "      <td>3254</td>\n",
       "      <td>64746</td>\n",
       "    </tr>\n",
       "    <tr>\n",
       "      <th>세종시</th>\n",
       "      <td>3656</td>\n",
       "      <td>63570</td>\n",
       "    </tr>\n",
       "  </tbody>\n",
       "</table>\n",
       "</div>"
      ],
      "text/plain": [
       "      총운행횟수   총이용인원\n",
       "도착지                \n",
       "광주    15684  281868\n",
       "전주    11773  216970\n",
       "동대구   12594  197055\n",
       "부산     8906  128734\n",
       "대전복합   7150  128704\n",
       "청주     5086   94989\n",
       "유성     3300   75421\n",
       "진주     4896   74094\n",
       "원주     3254   64746\n",
       "세종시    3656   63570"
      ]
     },
     "execution_count": 80,
     "metadata": {},
     "output_type": "execute_result"
    }
   ],
   "source": [
    "# 우등버스  인기 도착지 top10\n",
    "pop1 = df[df['차종'] == '우등'].groupby(['도착지']).sum().sort_values('총이용인원',ascending=0)[['총운행횟수','총이용인원']]\n",
    "pop1.head(10)\n"
   ]
  },
  {
   "cell_type": "code",
   "execution_count": 79,
   "metadata": {
    "scrolled": true
   },
   "outputs": [
    {
     "data": {
      "text/html": [
       "<div>\n",
       "<style scoped>\n",
       "    .dataframe tbody tr th:only-of-type {\n",
       "        vertical-align: middle;\n",
       "    }\n",
       "\n",
       "    .dataframe tbody tr th {\n",
       "        vertical-align: top;\n",
       "    }\n",
       "\n",
       "    .dataframe thead th {\n",
       "        text-align: right;\n",
       "    }\n",
       "</style>\n",
       "<table border=\"1\" class=\"dataframe\">\n",
       "  <thead>\n",
       "    <tr style=\"text-align: right;\">\n",
       "      <th></th>\n",
       "      <th>총운행횟수</th>\n",
       "      <th>총이용인원</th>\n",
       "    </tr>\n",
       "    <tr>\n",
       "      <th>도착지</th>\n",
       "      <th></th>\n",
       "      <th></th>\n",
       "    </tr>\n",
       "  </thead>\n",
       "  <tbody>\n",
       "    <tr>\n",
       "      <th>천안</th>\n",
       "      <td>7397</td>\n",
       "      <td>215998</td>\n",
       "    </tr>\n",
       "    <tr>\n",
       "      <th>광주</th>\n",
       "      <td>9567</td>\n",
       "      <td>187149</td>\n",
       "    </tr>\n",
       "    <tr>\n",
       "      <th>전주</th>\n",
       "      <td>5444</td>\n",
       "      <td>128713</td>\n",
       "    </tr>\n",
       "    <tr>\n",
       "      <th>동대구</th>\n",
       "      <td>5742</td>\n",
       "      <td>114489</td>\n",
       "    </tr>\n",
       "    <tr>\n",
       "      <th>안성</th>\n",
       "      <td>3541</td>\n",
       "      <td>99277</td>\n",
       "    </tr>\n",
       "    <tr>\n",
       "      <th>대전복합</th>\n",
       "      <td>2925</td>\n",
       "      <td>94320</td>\n",
       "    </tr>\n",
       "    <tr>\n",
       "      <th>이천</th>\n",
       "      <td>3071</td>\n",
       "      <td>79832</td>\n",
       "    </tr>\n",
       "    <tr>\n",
       "      <th>평택</th>\n",
       "      <td>2770</td>\n",
       "      <td>72167</td>\n",
       "    </tr>\n",
       "    <tr>\n",
       "      <th>여주</th>\n",
       "      <td>2040</td>\n",
       "      <td>56633</td>\n",
       "    </tr>\n",
       "    <tr>\n",
       "      <th>청주</th>\n",
       "      <td>2932</td>\n",
       "      <td>56049</td>\n",
       "    </tr>\n",
       "  </tbody>\n",
       "</table>\n",
       "</div>"
      ],
      "text/plain": [
       "      총운행횟수   총이용인원\n",
       "도착지                \n",
       "천안     7397  215998\n",
       "광주     9567  187149\n",
       "전주     5444  128713\n",
       "동대구    5742  114489\n",
       "안성     3541   99277\n",
       "대전복합   2925   94320\n",
       "이천     3071   79832\n",
       "평택     2770   72167\n",
       "여주     2040   56633\n",
       "청주     2932   56049"
      ]
     },
     "execution_count": 79,
     "metadata": {},
     "output_type": "execute_result"
    }
   ],
   "source": [
    "#고속버스 인기 도착지 top10\n",
    "\n",
    "pop2 = df[df['차종'] == '고속'].groupby(['도착지']).sum().sort_values('총이용인원',ascending=0)[['총운행횟수','총이용인원']]\n",
    "pop2.head(10)"
   ]
  },
  {
   "cell_type": "markdown",
   "metadata": {},
   "source": [
    "#### 고속버스 인기 노선과 우등버스 인기 노선 평균 거리를 비교하여, 거리와 차종의 인기도 상관관계 알아보기\n"
   ]
  },
  {
   "cell_type": "code",
   "execution_count": 123,
   "metadata": {},
   "outputs": [
    {
     "data": {
      "text/plain": [
       "127.59"
      ]
     },
     "execution_count": 123,
     "metadata": {},
     "output_type": "execute_result"
    }
   ],
   "source": [
    "#고속 버스 인기 노선 top 10,평균 거리\n",
    "\n",
    "top[top['차종']=='고속'].sort_values('총이용인원',ascending=0).head(10)['거리'].mean()\n"
   ]
  },
  {
   "cell_type": "code",
   "execution_count": 119,
   "metadata": {},
   "outputs": [
    {
     "data": {
      "text/plain": [
       "198.39000000000001"
      ]
     },
     "execution_count": 119,
     "metadata": {},
     "output_type": "execute_result"
    }
   ],
   "source": [
    "#우등 버스 인기 노선 top 10,평균 거리\n",
    "top[top['차종']=='우등'].sort_values('총이용인원',ascending=0).head(10)['거리'].mean()"
   ]
  },
  {
   "cell_type": "code",
   "execution_count": 122,
   "metadata": {},
   "outputs": [
    {
     "data": {
      "text/plain": [
       "<matplotlib.axes._subplots.AxesSubplot at 0x25fe50f6278>"
      ]
     },
     "execution_count": 122,
     "metadata": {},
     "output_type": "execute_result"
    },
    {
     "data": {
      "image/png": "[encoded data removed]",
      "text/plain": [
       "<Figure size 432x288 with 1 Axes>"
      ]
     },
     "metadata": {
      "needs_background": "light"
     },
     "output_type": "display_data"
    },
    {
     "data": {
      "image/png": "[encoded data removed]",
      "text/plain": [
       "<Figure size 432x288 with 1 Axes>"
      ]
     },
     "metadata": {
      "needs_background": "light"
     },
     "output_type": "display_data"
    }
   ],
   "source": [
    "# 운행 거리별 우등/ 고속 운행 횟수\n",
    "premium = df[df['차종'] == '우등'][['총운행횟수','거리']].sort_values('거리')\n",
    "express = df[df['차종'] == '고속'][['총운행횟수','거리']].sort_values('거리')\n",
    "\n",
    "\n",
    "%matplotlib inline\n",
    "# 한글처리\n",
    "from matplotlib import rc\n",
    "import matplotlib.pyplot as plt\n",
    "rc('font', family='Malgun Gothic')\n",
    "\n",
    "premium.plot(x='거리', y='총운행횟수',kind = 'line')\n",
    "express.plot(x='거리', y='총운행횟수',kind = 'line')\n"
   ]
  },
  {
   "cell_type": "code",
   "execution_count": null,
   "metadata": {},
   "outputs": [],
   "source": []
  },
  {
   "cell_type": "code",
   "execution_count": null,
   "metadata": {},
   "outputs": [],
   "source": []
  },
  {
   "cell_type": "code",
   "execution_count": null,
   "metadata": {},
   "outputs": [],
   "source": []
  }
 ],
 "metadata": {
  "kernelspec": {
   "display_name": "Python 3",
   "language": "python",
   "name": "python3"
  },
  "language_info": {
   "codemirror_mode": {
    "name": "ipython",
    "version": 3
   },
   "file_extension": ".py",
   "mimetype": "text/x-python",
   "name": "python",
   "nbconvert_exporter": "python",
   "pygments_lexer": "ipython3",
   "version": "3.7.3"
  }
 },
 "nbformat": 4,
 "nbformat_minor": 2
}
