{
 "cells": [
  {
   "cell_type": "markdown",
   "metadata": {},
   "source": [
    "### [ 참고 ] \n",
    "\n",
    "[https://pandas.pydata.org/pandas-docs/stable/groupby.html]"
   ]
  },
  {
   "cell_type": "markdown",
   "metadata": {},
   "source": [
    "###  UCI 저장소에서 제공하는 피마인디언 데이타\n",
    "\n",
    "- 1950년대까지 비만인이 없던 피마인디언 부족\n",
    "\n",
    "- 그러나 페스트푸드 문화와 더불어 지금은 전체 부족의 60%가 당뇨이고 80%가 비만이다\n",
    "\n",
    "\n",
    "- 샘플수(레코드) : 768\n",
    "- 속성 : 8\n",
    "        - 정보1 (pregnant) : 과거 임신 횟수\n",
    "        - 정보2 (plasma) : 포도당 부하 검사 2시간 후 공복 혈당 농도 (mm Hg)\n",
    "        - 정보3 (pressure) : 혈압(mm Hg)\n",
    "        - 정보4 (thickness) :삼두근 피부 주름 두께(mm)\n",
    "        - 정보5 (insulin) : 혈청 인슐린 (2hour, mu U/ml)\n",
    "        - 정보6 (BMI) : 체질량지수  weight(kg)/(height(m)*height(m))\n",
    "        - 정보7 (pedigree) : 당뇨병 가족력\n",
    "        - 정보8 (age) : 나이\n",
    "        \n",
    "- 클래스 : 당뇨 (1:당뇨 / 0:당뇨아님)      \n"
   ]
  },
  {
   "cell_type": "code",
   "execution_count": 1,
   "metadata": {},
   "outputs": [],
   "source": [
    "# (1) 데이타셋 로딩\n",
    "#      pima-indians-diabetes.csv 파일을 데이타프레임으로 로딩하면서 컬럼명도 지정\n",
    "\n",
    "import pandas as pd\n",
    "\n",
    "df = pd.read_csv('./data/pima-indians-diabetes.csv', names=['pregnant','plasma','pressure','thickness',\n",
    "                                                               'insulin','BMI','pedigree','age','diabetes'])\n"
   ]
  },
  {
   "cell_type": "code",
   "execution_count": 2,
   "metadata": {},
   "outputs": [],
   "source": [
    "# (2) 정보 확인\n"
   ]
  },
  {
   "cell_type": "markdown",
   "metadata": {},
   "source": [
    "## [연습]  임신횟수(pregnant)당 당뇨병 발생(diabetes) 확률을 구한다\n",
    "\n",
    "데이타 가공하는 작업이다\n"
   ]
  },
  {
   "cell_type": "code",
   "execution_count": null,
   "metadata": {},
   "outputs": [],
   "source": []
  },
  {
   "cell_type": "code",
   "execution_count": null,
   "metadata": {},
   "outputs": [],
   "source": []
  },
  {
   "cell_type": "code",
   "execution_count": null,
   "metadata": {},
   "outputs": [],
   "source": []
  },
  {
   "cell_type": "markdown",
   "metadata": {},
   "source": [
    "[ 분석 ]  임신횟수가 14번 이상이면 당뇨병에 걸릴 확률이 100%인가? \n",
    "\n",
    "임신횟수가 14번 이상인 경우가 몇 건 없는데 당뇨병이라고 하여 이를 확정할 수 있나???`0\n",
    "\n",
    "적어도 집단의 비율이 동일해야 예를 들어\n",
    "\n",
    "1 ~ 3명 / 4 ~ 6명 / 7 ~ 9명 / 10 ~ 12명 / 13 ~ 이상명을 임신횟수를 가진 사람들을 각 집단에 100명씩 조사한 결과라던가 \n",
    "\n",
    "[ 추가 고민 ] 임신횟수별 인원수를 구해서 나누면 되지 않을까나"
   ]
  },
  {
   "cell_type": "code",
   "execution_count": null,
   "metadata": {},
   "outputs": [],
   "source": []
  },
  {
   "cell_type": "code",
   "execution_count": null,
   "metadata": {},
   "outputs": [],
   "source": []
  }
 ],
 "metadata": {
  "kernelspec": {
   "display_name": "Python 3",
   "language": "python",
   "name": "python3"
  },
  "language_info": {
   "codemirror_mode": {
    "name": "ipython",
    "version": 3
   },
   "file_extension": ".py",
   "mimetype": "text/x-python",
   "name": "python",
   "nbconvert_exporter": "python",
   "pygments_lexer": "ipython3",
   "version": "3.7.3"
  }
 },
 "nbformat": 4,
 "nbformat_minor": 2
}
