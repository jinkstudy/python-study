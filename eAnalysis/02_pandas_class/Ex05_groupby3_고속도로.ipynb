{
 "cells": [
  {
   "cell_type": "markdown",
   "metadata": {},
   "source": [
    "## groupby()\n",
    "\n",
    "\n",
    "#### groupby()와 함께 사용하는 집계 메소드\n",
    "\n",
    "- count : 누락값을 제외한 데이타 수를 반환\n",
    "- size : 누락값을 포함한 데이타 수를 반환\n",
    "- sum\n",
    "- mean\n",
    "- std\n",
    "- var\n",
    "- min\n",
    "- max\n",
    "- quantile(q=0.25)\n",
    "- quantile(q=0.50)\n",
    "- quantile(q=0.75)\n",
    "- describe\n",
    "- first\n",
    "- last\n",
    "- nth   : n번째 행 반환\n",
    "- sem   : 평균의 표준편차 반환"
   ]
  },
  {
   "cell_type": "code",
   "execution_count": 2,
   "metadata": {},
   "outputs": [
    {
     "data": {
      "text/html": [
       "<div>\n",
       "<style scoped>\n",
       "    .dataframe tbody tr th:only-of-type {\n",
       "        vertical-align: middle;\n",
       "    }\n",
       "\n",
       "    .dataframe tbody tr th {\n",
       "        vertical-align: top;\n",
       "    }\n",
       "\n",
       "    .dataframe thead th {\n",
       "        text-align: right;\n",
       "    }\n",
       "</style>\n",
       "<table border=\"1\" class=\"dataframe\">\n",
       "  <thead>\n",
       "    <tr style=\"text-align: right;\">\n",
       "      <th></th>\n",
       "      <th>차종</th>\n",
       "      <th>선별</th>\n",
       "      <th>출발지</th>\n",
       "      <th>도착지</th>\n",
       "      <th>거리</th>\n",
       "      <th>총운행횟수</th>\n",
       "      <th>총이용인원</th>\n",
       "      <th>이용율</th>\n",
       "    </tr>\n",
       "  </thead>\n",
       "  <tbody>\n",
       "    <tr>\n",
       "      <th>331</th>\n",
       "      <td>고속</td>\n",
       "      <td>호남선</td>\n",
       "      <td>안산</td>\n",
       "      <td>익산</td>\n",
       "      <td>202.0</td>\n",
       "      <td>244</td>\n",
       "      <td>2391</td>\n",
       "      <td>35.0</td>\n",
       "    </tr>\n",
       "    <tr>\n",
       "      <th>332</th>\n",
       "      <td>우등</td>\n",
       "      <td>호남선</td>\n",
       "      <td>안산</td>\n",
       "      <td>익산</td>\n",
       "      <td>202.0</td>\n",
       "      <td>184</td>\n",
       "      <td>2502</td>\n",
       "      <td>30.2</td>\n",
       "    </tr>\n",
       "    <tr>\n",
       "      <th>333</th>\n",
       "      <td>고속</td>\n",
       "      <td>호남선</td>\n",
       "      <td>시흥시화</td>\n",
       "      <td>광주</td>\n",
       "      <td>302.6</td>\n",
       "      <td>183</td>\n",
       "      <td>1567</td>\n",
       "      <td>30.6</td>\n",
       "    </tr>\n",
       "    <tr>\n",
       "      <th>334</th>\n",
       "      <td>우등</td>\n",
       "      <td>호남선</td>\n",
       "      <td>시흥시화</td>\n",
       "      <td>광주</td>\n",
       "      <td>302.6</td>\n",
       "      <td>5</td>\n",
       "      <td>153</td>\n",
       "      <td>68.0</td>\n",
       "    </tr>\n",
       "    <tr>\n",
       "      <th>335</th>\n",
       "      <td>고속</td>\n",
       "      <td>호남선</td>\n",
       "      <td>춘천</td>\n",
       "      <td>광주</td>\n",
       "      <td>406.5</td>\n",
       "      <td>122</td>\n",
       "      <td>1167</td>\n",
       "      <td>34.2</td>\n",
       "    </tr>\n",
       "    <tr>\n",
       "      <th>336</th>\n",
       "      <td>우등</td>\n",
       "      <td>호남선</td>\n",
       "      <td>대전복합</td>\n",
       "      <td>광주</td>\n",
       "      <td>178.6</td>\n",
       "      <td>1015</td>\n",
       "      <td>16872</td>\n",
       "      <td>59.4</td>\n",
       "    </tr>\n",
       "    <tr>\n",
       "      <th>337</th>\n",
       "      <td>고속</td>\n",
       "      <td>호남선</td>\n",
       "      <td>대전복합</td>\n",
       "      <td>광주</td>\n",
       "      <td>178.6</td>\n",
       "      <td>630</td>\n",
       "      <td>12766</td>\n",
       "      <td>45.0</td>\n",
       "    </tr>\n",
       "    <tr>\n",
       "      <th>338</th>\n",
       "      <td>우등</td>\n",
       "      <td>호남선</td>\n",
       "      <td>대전복합</td>\n",
       "      <td>전주</td>\n",
       "      <td>90.4</td>\n",
       "      <td>1944</td>\n",
       "      <td>44280</td>\n",
       "      <td>50.6</td>\n",
       "    </tr>\n",
       "    <tr>\n",
       "      <th>339</th>\n",
       "      <td>우등</td>\n",
       "      <td>호남선</td>\n",
       "      <td>대전시외</td>\n",
       "      <td>여수</td>\n",
       "      <td>225.4</td>\n",
       "      <td>66</td>\n",
       "      <td>1040</td>\n",
       "      <td>35.0</td>\n",
       "    </tr>\n",
       "    <tr>\n",
       "      <th>340</th>\n",
       "      <td>고속</td>\n",
       "      <td>호남선</td>\n",
       "      <td>천안</td>\n",
       "      <td>광주</td>\n",
       "      <td>210.5</td>\n",
       "      <td>765</td>\n",
       "      <td>10372</td>\n",
       "      <td>48.4</td>\n",
       "    </tr>\n",
       "    <tr>\n",
       "      <th>341</th>\n",
       "      <td>고속</td>\n",
       "      <td>호남선</td>\n",
       "      <td>천안</td>\n",
       "      <td>광주</td>\n",
       "      <td>210.5</td>\n",
       "      <td>357</td>\n",
       "      <td>7506</td>\n",
       "      <td>46.7</td>\n",
       "    </tr>\n",
       "    <tr>\n",
       "      <th>342</th>\n",
       "      <td>고속</td>\n",
       "      <td>호남선</td>\n",
       "      <td>당진</td>\n",
       "      <td>광주</td>\n",
       "      <td>247.2</td>\n",
       "      <td>90</td>\n",
       "      <td>939</td>\n",
       "      <td>23.2</td>\n",
       "    </tr>\n",
       "    <tr>\n",
       "      <th>343</th>\n",
       "      <td>고속</td>\n",
       "      <td>호남선</td>\n",
       "      <td>당진</td>\n",
       "      <td>여수</td>\n",
       "      <td>397.3</td>\n",
       "      <td>78</td>\n",
       "      <td>1379</td>\n",
       "      <td>39.3</td>\n",
       "    </tr>\n",
       "    <tr>\n",
       "      <th>344</th>\n",
       "      <td>우등</td>\n",
       "      <td>호남선</td>\n",
       "      <td>세종시</td>\n",
       "      <td>함평</td>\n",
       "      <td>238.2</td>\n",
       "      <td>24</td>\n",
       "      <td>3578</td>\n",
       "      <td>331.3</td>\n",
       "    </tr>\n",
       "    <tr>\n",
       "      <th>345</th>\n",
       "      <td>고속</td>\n",
       "      <td>호남선</td>\n",
       "      <td>청주</td>\n",
       "      <td>광주</td>\n",
       "      <td>207.5</td>\n",
       "      <td>593</td>\n",
       "      <td>8121</td>\n",
       "      <td>48.9</td>\n",
       "    </tr>\n",
       "    <tr>\n",
       "      <th>346</th>\n",
       "      <td>고속</td>\n",
       "      <td>호남선</td>\n",
       "      <td>청주</td>\n",
       "      <td>광주</td>\n",
       "      <td>207.5</td>\n",
       "      <td>268</td>\n",
       "      <td>4858</td>\n",
       "      <td>40.3</td>\n",
       "    </tr>\n",
       "    <tr>\n",
       "      <th>347</th>\n",
       "      <td>고속</td>\n",
       "      <td>호남선</td>\n",
       "      <td>청주시외</td>\n",
       "      <td>여수</td>\n",
       "      <td>290.1</td>\n",
       "      <td>21</td>\n",
       "      <td>513</td>\n",
       "      <td>54.3</td>\n",
       "    </tr>\n",
       "    <tr>\n",
       "      <th>348</th>\n",
       "      <td>우등</td>\n",
       "      <td>호남선</td>\n",
       "      <td>광주</td>\n",
       "      <td>전주</td>\n",
       "      <td>105.9</td>\n",
       "      <td>1802</td>\n",
       "      <td>34137</td>\n",
       "      <td>67.7</td>\n",
       "    </tr>\n",
       "    <tr>\n",
       "      <th>349</th>\n",
       "      <td>고속</td>\n",
       "      <td>호남선</td>\n",
       "      <td>광주</td>\n",
       "      <td>전주</td>\n",
       "      <td>105.9</td>\n",
       "      <td>1043</td>\n",
       "      <td>30394</td>\n",
       "      <td>64.8</td>\n",
       "    </tr>\n",
       "    <tr>\n",
       "      <th>350</th>\n",
       "      <td>우등</td>\n",
       "      <td>호남선</td>\n",
       "      <td>여수</td>\n",
       "      <td>군산</td>\n",
       "      <td>195.9</td>\n",
       "      <td>114</td>\n",
       "      <td>711</td>\n",
       "      <td>22.3</td>\n",
       "    </tr>\n",
       "  </tbody>\n",
       "</table>\n",
       "</div>"
      ],
      "text/plain": [
       "     차종   선별   출발지 도착지     거리  총운행횟수  총이용인원    이용율\n",
       "331  고속  호남선    안산  익산  202.0    244   2391   35.0\n",
       "332  우등  호남선    안산  익산  202.0    184   2502   30.2\n",
       "333  고속  호남선  시흥시화  광주  302.6    183   1567   30.6\n",
       "334  우등  호남선  시흥시화  광주  302.6      5    153   68.0\n",
       "335  고속  호남선    춘천  광주  406.5    122   1167   34.2\n",
       "336  우등  호남선  대전복합  광주  178.6   1015  16872   59.4\n",
       "337  고속  호남선  대전복합  광주  178.6    630  12766   45.0\n",
       "338  우등  호남선  대전복합  전주   90.4   1944  44280   50.6\n",
       "339  우등  호남선  대전시외  여수  225.4     66   1040   35.0\n",
       "340  고속  호남선    천안  광주  210.5    765  10372   48.4\n",
       "341  고속  호남선    천안  광주  210.5    357   7506   46.7\n",
       "342  고속  호남선    당진  광주  247.2     90    939   23.2\n",
       "343  고속  호남선    당진  여수  397.3     78   1379   39.3\n",
       "344  우등  호남선   세종시  함평  238.2     24   3578  331.3\n",
       "345  고속  호남선    청주  광주  207.5    593   8121   48.9\n",
       "346  고속  호남선    청주  광주  207.5    268   4858   40.3\n",
       "347  고속  호남선  청주시외  여수  290.1     21    513   54.3\n",
       "348  우등  호남선    광주  전주  105.9   1802  34137   67.7\n",
       "349  고속  호남선    광주  전주  105.9   1043  30394   64.8\n",
       "350  우등  호남선    여수  군산  195.9    114    711   22.3"
      ]
     },
     "execution_count": 2,
     "metadata": {},
     "output_type": "execute_result"
    }
   ],
   "source": [
    "import pandas as pd\n",
    "\n",
    "df = pd.read_excel('data/고속버스.xlsx') \n",
    "df.tail(20)"
   ]
  },
  {
   "cell_type": "code",
   "execution_count": 17,
   "metadata": {},
   "outputs": [
    {
     "name": "stdout",
     "output_type": "stream",
     "text": [
      "<class 'pandas.core.groupby.generic.DataFrameGroupBy'>\n"
     ]
    },
    {
     "data": {
      "text/plain": [
       "선별\n",
       "호남선    122\n",
       "경부선    105\n",
       "구마선     30\n",
       "영동선     26\n",
       "경인선     25\n",
       "남해선     21\n",
       "88선     18\n",
       "동해선      4\n",
       "Name: 선별, dtype: int64"
      ]
     },
     "execution_count": 17,
     "metadata": {},
     "output_type": "execute_result"
    }
   ],
   "source": [
    "# 그룹화 - '선별' 단위로 각각의 노선에 대한 총 갯수\n",
    "dd= df.groupby('선별')\n",
    "print(type(dd))\n",
    "a = dd['선별'].count().sort_values(ascending = False)\n",
    "\n"
   ]
  },
  {
   "cell_type": "code",
   "execution_count": 69,
   "metadata": {
    "scrolled": true
   },
   "outputs": [],
   "source": [
    "%matplotlib inline\n",
    "\n",
    "# 한글처리\n",
    "from matplotlib import rc\n",
    "import matplotlib.pyplot as plt\n",
    "rc('font', family='Malgun Gothic')"
   ]
  },
  {
   "cell_type": "code",
   "execution_count": 22,
   "metadata": {
    "scrolled": true
   },
   "outputs": [
    {
     "data": {
      "text/plain": [
       "<matplotlib.axes._subplots.AxesSubplot at 0x18f94dd5eb8>"
      ]
     },
     "execution_count": 22,
     "metadata": {},
     "output_type": "execute_result"
    },
    {
     "data": {
      "image/png": "[encoded data removed]",
      "text/plain": [
       "<Figure size 432x288 with 1 Axes>"
      ]
     },
     "metadata": {
      "needs_background": "light"
     },
     "output_type": "display_data"
    }
   ],
   "source": [
    "# 노선별 수에 대한 그래프\n",
    "a.plot(kind = 'bar')"
   ]
  },
  {
   "cell_type": "code",
   "execution_count": 101,
   "metadata": {
    "scrolled": true
   },
   "outputs": [
    {
     "data": {
      "text/plain": [
       "<matplotlib.axes._subplots.AxesSubplot at 0x18f96f57940>"
      ]
     },
     "execution_count": 101,
     "metadata": {},
     "output_type": "execute_result"
    },
    {
     "data": {
      "image/png": "[encoded data removed]",
      "text/plain": [
       "<Figure size 432x288 with 1 Axes>"
      ]
     },
     "metadata": {
      "needs_background": "light"
     },
     "output_type": "display_data"
    }
   ],
   "source": [
    "# 차종별, 노선별별 그룹화 작업 + 그래프\n",
    "\n",
    "premium = df[df['차종'] == '우등'].groupby('선별').count()['총운행횟수']\n",
    "express = df[df['차종'] == '고속'].groupby('선별').count()['총운행횟수']\n",
    "\n",
    "result = pd.DataFrame({\"선별\":premium.index,\"우등\" :premium.values,\"고속\":express.values})\n",
    "result.plot(x=\"선별\",y=[\"우등\",\"고속\"],kind=\"bar\")                      \n"
   ]
  },
  {
   "cell_type": "code",
   "execution_count": 67,
   "metadata": {},
   "outputs": [
    {
     "data": {
      "text/plain": [
       "11048.618233618234"
      ]
     },
     "execution_count": 67,
     "metadata": {},
     "output_type": "execute_result"
    }
   ],
   "source": [
    "# 총이용인원에 대한 평균\n",
    "df['총이용인원'].mean()"
   ]
  },
  {
   "cell_type": "code",
   "execution_count": 107,
   "metadata": {},
   "outputs": [
    {
     "data": {
      "text/plain": [
       "<matplotlib.axes._subplots.AxesSubplot at 0x18f981b8fd0>"
      ]
     },
     "execution_count": 107,
     "metadata": {},
     "output_type": "execute_result"
    },
    {
     "data": {
      "image/png": "[encoded data removed]",
      "text/plain": [
       "<Figure size 432x288 with 1 Axes>"
      ]
     },
     "metadata": {
      "needs_background": "light"
     },
     "output_type": "display_data"
    },
    {
     "data": {
      "image/png": "[encoded data removed]",
      "text/plain": [
       "<Figure size 432x288 with 1 Axes>"
      ]
     },
     "metadata": {
      "needs_background": "light"
     },
     "output_type": "display_data"
    }
   ],
   "source": [
    "# 교차테이블(cross tab) - 엑셀의 Pivot 유사\n",
    "result = pd.crosstab(df['차종'],df['선별'])\n",
    "result2 = pd.crosstab(df['차종'],df['선별'],margins=True)\n",
    "result.plot(kind = 'bar')\n",
    "\n",
    "result = pd.crosstab(df['선별'],df['차종'])\n",
    "result.plot(kind = 'bar')"
   ]
  },
  {
   "cell_type": "code",
   "execution_count": 113,
   "metadata": {},
   "outputs": [
    {
     "data": {
      "text/plain": [
       "<matplotlib.axes._subplots.AxesSubplot at 0x18f98154390>"
      ]
     },
     "execution_count": 113,
     "metadata": {},
     "output_type": "execute_result"
    },
    {
     "data": {
      "image/png": "[encoded data removed]",
      "text/plain": [
       "<Figure size 432x288 with 1 Axes>"
      ]
     },
     "metadata": {},
     "output_type": "display_data"
    }
   ],
   "source": [
    "#'고속'에서 선별을 그래프 표현(원그래프(pie))\n",
    "\n",
    "#result['고속'].plot(kind='pie')\n",
    "\n",
    "#전체에서 선별을 그래프 표현.\n",
    "result2.loc['All'].plot(kind='pie')\n",
    "\n",
    "\n"
   ]
  },
  {
   "cell_type": "code",
   "execution_count": null,
   "metadata": {},
   "outputs": [],
   "source": []
  }
 ],
 "metadata": {
  "kernelspec": {
   "display_name": "Python 3",
   "language": "python",
   "name": "python3"
  },
  "language_info": {
   "codemirror_mode": {
    "name": "ipython",
    "version": 3
   },
   "file_extension": ".py",
   "mimetype": "text/x-python",
   "name": "python",
   "nbconvert_exporter": "python",
   "pygments_lexer": "ipython3",
   "version": "3.7.3"
  }
 },
 "nbformat": 4,
 "nbformat_minor": 2
}
